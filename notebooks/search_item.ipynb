{
 "metadata": {
  "language_info": {
   "codemirror_mode": {
    "name": "ipython",
    "version": 3
   },
   "file_extension": ".py",
   "mimetype": "text/x-python",
   "name": "python",
   "nbconvert_exporter": "python",
   "pygments_lexer": "ipython3",
   "version": "3.9.2-final"
  },
  "orig_nbformat": 2,
  "kernelspec": {
   "name": "python38664bitpythonenvcondac3d489905bf8462fa14a00176046c2f1",
   "display_name": "Python 3.8.6 64-bit ('.python_env': conda)",
   "language": "python"
  }
 },
 "nbformat": 4,
 "nbformat_minor": 2,
 "cells": [
  {
   "cell_type": "code",
   "execution_count": 1,
   "metadata": {},
   "outputs": [
    {
     "output_type": "stream",
     "name": "stdout",
     "text": [
      "/home/oji/dev/mugimugi\n"
     ]
    }
   ],
   "source": [
    "cd .."
   ]
  },
  {
   "cell_type": "code",
   "execution_count": 2,
   "metadata": {},
   "outputs": [
    {
     "output_type": "error",
     "ename": "SyntaxError",
     "evalue": "invalid syntax (__init__.py, line 20)",
     "traceback": [
      "Traceback \u001b[0;36m(most recent call last)\u001b[0m:\n",
      "  File \u001b[1;32m\"/home/oji/dev/mugimugi/.python_env/lib/python3.9/site-packages/IPython/core/interactiveshell.py\"\u001b[0m, line \u001b[1;32m3437\u001b[0m, in \u001b[1;35mrun_code\u001b[0m\n    exec(code_obj, self.user_global_ns, self.user_ns)\n",
      "  File \u001b[1;32m\"<ipython-input-2-59f493d77312>\"\u001b[0m, line \u001b[1;32m1\u001b[0m, in \u001b[1;35m<module>\u001b[0m\n    from query import client\n",
      "  File \u001b[1;32m\"/home/oji/dev/mugimugi/query.py\"\u001b[0m, line \u001b[1;32m3\u001b[0m, in \u001b[1;35m<module>\u001b[0m\n    from mugimugi import MugiMugi\n",
      "  File \u001b[1;32m\"/home/oji/dev/mugimugi/mugimugi/__init__.py\"\u001b[0m, line \u001b[1;32m7\u001b[0m, in \u001b[1;35m<module>\u001b[0m\n    from .service import *\n",
      "  File \u001b[1;32m\"/home/oji/dev/mugimugi/mugimugi/service/__init__.py\"\u001b[0m, line \u001b[1;32m1\u001b[0m, in \u001b[1;35m<module>\u001b[0m\n    from .author import Author\n",
      "  File \u001b[1;32m\"/home/oji/dev/mugimugi/mugimugi/service/author.py\"\u001b[0m, line \u001b[1;32m6\u001b[0m, in \u001b[1;35m<module>\u001b[0m\n    from .abstract import ItemType\n",
      "\u001b[0;36m  File \u001b[0;32m\"/home/oji/dev/mugimugi/mugimugi/service/abstract.py\"\u001b[0;36m, line \u001b[0;32m5\u001b[0;36m, in \u001b[0;35m<module>\u001b[0;36m\u001b[0m\n\u001b[0;31m    from ..client import Client\u001b[0m\n",
      "\u001b[0;36m  File \u001b[0;32m\"/home/oji/dev/mugimugi/mugimugi/client/__init__.py\"\u001b[0;36m, line \u001b[0;32m20\u001b[0m\n\u001b[0;31m    while\u001b[0m\n\u001b[0m         ^\u001b[0m\n\u001b[0;31mSyntaxError\u001b[0m\u001b[0;31m:\u001b[0m invalid syntax\n"
     ]
    }
   ],
   "source": [
    "from query import client"
   ]
  },
  {
   "cell_type": "code",
   "execution_count": 3,
   "metadata": {},
   "outputs": [
    {
     "output_type": "stream",
     "name": "stdout",
     "text": [
      "Author(_id='A1', id=1, prefix=<ElementPrefix.AUTHOR: 'A'>, english_name='(unknown)', japanese_name='不詳', romaji_name='', other_names=[], _type=<Type.TYPE: <ItemType.AUTHOR: 'author'>>, type=<ItemType.AUTHOR: 'author'>, version=6, objects_count=53358, parent=0, _links=Author.Linker(items=[]))\nAuthor(_id='A240391', id=240391, prefix=<ElementPrefix.AUTHOR: 'A'>, english_name='【needs specifying】 usagi', japanese_name='うさぎ', romaji_name='', other_names=['不詳 / unidentified'], _type=<Type.TYPE: <ItemType.AUTHOR: 'author'>>, type=<ItemType.AUTHOR: 'author'>, version=1, objects_count=1, parent=0, _links=Author.Linker(items=[]))\nAuthor(_id='A35356', id=35356, prefix=<ElementPrefix.AUTHOR: 'A'>, english_name='Kouya Sumeragi', japanese_name='[不詳]Kouya Sumeragi', romaji_name='', other_names=[], _type=<Type.TYPE: <ItemType.AUTHOR: 'author'>>, type=<ItemType.AUTHOR: 'author'>, version=2, objects_count=1, parent=0, _links=Author.Linker(items=[]))\nAuthor(_id='A2017', id=2017, prefix=<ElementPrefix.AUTHOR: 'A'>, english_name='Matori You', japanese_name='(表記不詳)Matori You', romaji_name='', other_names=[], _type=<Type.TYPE: <ItemType.AUTHOR: 'author'>>, type=<ItemType.AUTHOR: 'author'>, version=2, objects_count=1, parent=0, _links=Author.Linker(items=[]))\nAuthor(_id='A4951', id=4951, prefix=<ElementPrefix.AUTHOR: 'A'>, english_name='Minagi.N.', japanese_name='[不詳]', romaji_name='', other_names=[], _type=<Type.TYPE: <ItemType.AUTHOR: 'author'>>, type=<ItemType.AUTHOR: 'author'>, version=2, objects_count=1, parent=0, _links=Author.Linker(items=[]))\nAuthor(_id='A35517', id=35517, prefix=<ElementPrefix.AUTHOR: 'A'>, english_name='Renjyo Kamisaki', japanese_name='[不詳]Renjyo Kamisaki', romaji_name='', other_names=[], _type=<Type.TYPE: <ItemType.AUTHOR: 'author'>>, type=<ItemType.AUTHOR: 'author'>, version=2, objects_count=1, parent=0, _links=Author.Linker(items=[]))\nAuthor(_id='A5591', id=5591, prefix=<ElementPrefix.AUTHOR: 'A'>, english_name='Ruru Sanjoe', japanese_name='[不詳]Ruru Sanjoe', romaji_name='', other_names=[], _type=<Type.TYPE: <ItemType.AUTHOR: 'author'>>, type=<ItemType.AUTHOR: 'author'>, version=3, objects_count=1, parent=0, _links=Author.Linker(items=[]))\nAuthor(_id='A22360', id=22360, prefix=<ElementPrefix.AUTHOR: 'A'>, english_name='Sakusha Fushou', japanese_name='作者不詳', romaji_name='サクシャフショウ', other_names=[], _type=<Type.TYPE: <ItemType.AUTHOR: 'author'>>, type=<ItemType.AUTHOR: 'author'>, version=2, objects_count=2, parent=0, _links=Author.Linker(items=[]))\nAuthor(_id='A1056', id=1056, prefix=<ElementPrefix.AUTHOR: 'A'>, english_name='Yu-tsu', japanese_name='(表記不詳)Yu-tsu', romaji_name='', other_names=[], _type=<Type.TYPE: <ItemType.AUTHOR: 'author'>>, type=<ItemType.AUTHOR: 'author'>, version=12, objects_count=2, parent=0, _links=Author.Linker(items=[SubContent(_id='K15', id=15, prefix=<ElementPrefix.CONTENT: 'K'>, english_name='Loli', japanese_name='ロリ', romaji_name='', other_names=['lolicon', 'lolikon', 'rorikon', 'ロリコン'], _type=<Type.TYPE: <ItemType.CONTENT: 'contents'>>, type=<ItemType.CONTENT: 'contents'>, version=3, objects_count=74955)]))\nAuthor(_id='A19523', id=19523, prefix=<ElementPrefix.AUTHOR: 'A'>, english_name='Yumeno Miyako', japanese_name='[不詳]Yumeno Miyako', romaji_name='', other_names=[], _type=<Type.TYPE: <ItemType.AUTHOR: 'author'>>, type=<ItemType.AUTHOR: 'author'>, version=2, objects_count=1, parent=0, _links=Author.Linker(items=[]))\n"
     ]
    }
   ],
   "source": [
    "async for e in client.author.search(\"不詳\"):\n",
    "    print(e)"
   ]
  },
  {
   "cell_type": "code",
   "execution_count": 4,
   "metadata": {},
   "outputs": [
    {
     "output_type": "stream",
     "name": "stdout",
     "text": [
      "Author(_id='A1', id=1, prefix=<ElementPrefix.AUTHOR: 'A'>, english_name='(unknown)', japanese_name='不詳', romaji_name='', other_names=[], _type=<Type.TYPE: <ItemType.AUTHOR: 'author'>>, type=<ItemType.AUTHOR: 'author'>, version=6, objects_count=53358, parent=0, _links=Author.Linker(items=[]))\nAuthor(_id='A16954', id=16954, prefix=<ElementPrefix.AUTHOR: 'A'>, english_name='(and more)', japanese_name='他', romaji_name='', other_names=[], _type=<Type.TYPE: <ItemType.AUTHOR: 'author'>>, type=<ItemType.AUTHOR: 'author'>, version=6, objects_count=14155, parent=1, _links=Author.Linker(items=[]))\nAuthor(_id='A29589', id=29589, prefix=<ElementPrefix.AUTHOR: 'A'>, english_name='Tezuka Osamu', japanese_name='手塚治虫', romaji_name='テヅカオサム', other_names=[], _type=<Type.TYPE: <ItemType.AUTHOR: 'author'>>, type=<ItemType.AUTHOR: 'author'>, version=2, objects_count=1535, parent=0, _links=Author.Linker(items=[]))\nAuthor(_id='A29859', id=29859, prefix=<ElementPrefix.AUTHOR: 'A'>, english_name='Koike Kazuo', japanese_name='小池一夫', romaji_name='', other_names=[], _type=<Type.TYPE: <ItemType.AUTHOR: 'author'>>, type=<ItemType.AUTHOR: 'author'>, version=2, objects_count=1252, parent=0, _links=Author.Linker(items=[]))\nAuthor(_id='A29878', id=29878, prefix=<ElementPrefix.AUTHOR: 'A'>, english_name='Saitou Takawo', japanese_name='さいとう・たかを', romaji_name='サイトウタカヲ', other_names=[], _type=<Type.TYPE: <ItemType.AUTHOR: 'author'>>, type=<ItemType.AUTHOR: 'author'>, version=3, objects_count=1094, parent=0, _links=Author.Linker(items=[]))\nAuthor(_id='A29617', id=29617, prefix=<ElementPrefix.AUTHOR: 'A'>, english_name='Yokoyama Mitsuteru', japanese_name='横山光輝', romaji_name='', other_names=[], _type=<Type.TYPE: <ItemType.AUTHOR: 'author'>>, type=<ItemType.AUTHOR: 'author'>, version=2, objects_count=985, parent=0, _links=Author.Linker(items=[]))\nAuthor(_id='A29679', id=29679, prefix=<ElementPrefix.AUTHOR: 'A'>, english_name='Ishinomori Shoutarou', japanese_name='石ノ森章太郎', romaji_name='', other_names=[], _type=<Type.TYPE: <ItemType.AUTHOR: 'author'>>, type=<ItemType.AUTHOR: 'author'>, version=1, objects_count=839, parent=0, _links=Author.Linker(items=[]))\nAuthor(_id='A29649', id=29649, prefix=<ElementPrefix.AUTHOR: 'A'>, english_name='Nagai Go', japanese_name='永井豪', romaji_name='', other_names=[], _type=<Type.TYPE: <ItemType.AUTHOR: 'author'>>, type=<ItemType.AUTHOR: 'author'>, version=2, objects_count=798, parent=0, _links=Author.Linker(items=[]))\nAuthor(_id='A52774', id=52774, prefix=<ElementPrefix.AUTHOR: 'A'>, english_name='【need specified】 various artists', japanese_name='V.A.', romaji_name='', other_names=[], _type=<Type.TYPE: <ItemType.AUTHOR: 'author'>>, type=<ItemType.AUTHOR: 'author'>, version=5, objects_count=741, parent=1, _links=Author.Linker(items=[]))\nAuthor(_id='A1765', id=1765, prefix=<ElementPrefix.AUTHOR: 'A'>, english_name='LINDA', japanese_name='LINDA', romaji_name='', other_names=[], _type=<Type.TYPE: <ItemType.AUTHOR: 'author'>>, type=<ItemType.AUTHOR: 'author'>, version=11, objects_count=698, parent=0, _links=Author.Linker(items=[]))\n"
     ]
    }
   ],
   "source": [
    "from mugimugi.action import SearchItem\n",
    "from mugimugi.enum import SortOrder\n",
    "\n",
    "async for e in client.author.search(sort_criterion=SearchItem.SortCriterion.OBJECTS, sort_order=SortOrder.DESCENDING, limit=10):\n",
    "    print(e)"
   ]
  },
  {
   "cell_type": "code",
   "execution_count": 5,
   "metadata": {},
   "outputs": [
    {
     "output_type": "stream",
     "name": "stdout",
     "text": [
      "Character(_id='H1', id=1, prefix=<ElementPrefix.CHARACTER: 'H'>, english_name='(unknown)', japanese_name='不詳', romaji_name='', other_names=[], _type=<Type.TYPE: <ItemType.CHARACTER: 'character'>>, type=<ItemType.CHARACTER: 'character'>, version=3, objects_count=591, sex=<Sex.UNKNOWN: 0>, age='', _links=Character.Linker(items=[]))\n"
     ]
    }
   ],
   "source": [
    "async for e in client.character.search(\"不詳\"):\n",
    "    print(e)"
   ]
  },
  {
   "cell_type": "code",
   "execution_count": 6,
   "metadata": {},
   "outputs": [
    {
     "output_type": "stream",
     "name": "stdout",
     "text": [
      "Circle(_id='C1', id=1, prefix=<ElementPrefix.CIRCLE: 'C'>, english_name='(unknown)', japanese_name='不詳', romaji_name='', other_names=[], _type=<Type.TYPE: <ItemType.CIRCLE: 'circle'>>, type=<ItemType.CIRCLE: 'circle'>, version=8, objects_count=1867, parent=0, _links=Circle.Linker(items=[]))\n"
     ]
    }
   ],
   "source": [
    "async for e in client.circle.search(\"不詳\"):\n",
    "    print(e)"
   ]
  },
  {
   "cell_type": "code",
   "execution_count": 7,
   "metadata": {},
   "outputs": [
    {
     "output_type": "stream",
     "name": "stdout",
     "text": [
      "Collection(_id='O1', id=1, prefix=<ElementPrefix.COLLECTION: 'O'>, english_name='UNKNOWN', japanese_name='不詳', romaji_name='', other_names=[], _type=<Type.TYPE: <ItemType.COLLECTION: 'collections'>>, type=<ItemType.COLLECTION: 'collections'>, version=2, objects_count=37, _='')\n"
     ]
    }
   ],
   "source": [
    "async for e in client.collection.search(\"不詳\"):\n",
    "    print(e)"
   ]
  },
  {
   "cell_type": "code",
   "execution_count": 8,
   "metadata": {},
   "outputs": [
    {
     "output_type": "stream",
     "name": "stdout",
     "text": [
      "Content(_id='K1', id=1, prefix=<ElementPrefix.CONTENT: 'K'>, english_name='Unknown', japanese_name='不詳', romaji_name='', other_names=[], _type=<Type.TYPE: <ItemType.CONTENT: 'contents'>>, type=<ItemType.CONTENT: 'contents'>, version=1, objects_count=1584607, _='')\n"
     ]
    }
   ],
   "source": [
    "async for e in client.content.search(\"不詳\"):\n",
    "    print(e)"
   ]
  },
  {
   "cell_type": "code",
   "execution_count": 9,
   "metadata": {},
   "outputs": [
    {
     "output_type": "stream",
     "name": "stdout",
     "text": [
      "Convention(_id='N1', id=1, prefix=<ElementPrefix.CONVENTION: 'N'>, english_name='Unknown', japanese_name='不詳', romaji_name='', other_names=[], _type=<Type.TYPE: <ItemType.CONVENTION: 'convention'>>, type=<ItemType.CONVENTION: 'convention'>, version=2, objects_count=690635, date_start='0000-00-00', date_end='0000-00-00', _links=Convention.Linker(items=[]))\n"
     ]
    }
   ],
   "source": [
    "async for e in client.convention.search(\"不詳\"):\n",
    "    print(e)"
   ]
  },
  {
   "cell_type": "code",
   "execution_count": 10,
   "metadata": {},
   "outputs": [
    {
     "output_type": "stream",
     "name": "stdout",
     "text": [
      "Convention(_id='N4790', id=4790, prefix=<ElementPrefix.CONVENTION: 'N'>, english_name='Comic Market 97', japanese_name='コミックマーケット97', romaji_name='', other_names=['C97'], _type=<Type.TYPE: <ItemType.CONVENTION: 'convention'>>, type=<ItemType.CONVENTION: 'convention'>, version=1, objects_count=11415, date_start=datetime.date(2019, 12, 28), date_end=datetime.date(2019, 12, 31), _links=Convention.Linker(items=[]))\n"
     ]
    }
   ],
   "source": [
    "from datetime import date\n",
    "async for e in client.convention.search(date_=date(2019, 12, 30)):\n",
    "    print(e)"
   ]
  },
  {
   "cell_type": "code",
   "execution_count": 11,
   "metadata": {},
   "outputs": [
    {
     "output_type": "stream",
     "name": "stdout",
     "text": [
      "Genre(_id='G1', id=1, prefix=<ElementPrefix.GENRE: 'G'>, english_name='Unknown', japanese_name='不詳', romaji_name='', other_names=[], _type=<Type.TYPE: <ItemType.GENRE: 'genre'>>, type=<ItemType.GENRE: 'genre'>, version=2, objects_count=173, _='')\n"
     ]
    }
   ],
   "source": [
    "async for e in client.genre.search(\"不詳\"):\n",
    "    print(e)"
   ]
  },
  {
   "cell_type": "code",
   "execution_count": 12,
   "metadata": {},
   "outputs": [
    {
     "output_type": "stream",
     "name": "stdout",
     "text": [
      "Imprint(_id='I1', id=1, prefix=<ElementPrefix.IMPRINT: 'I'>, english_name='Unknown', japanese_name='不詳', romaji_name='', other_names=[], _type=<Type.TYPE: <ItemType.IMPRINT: 'imprint'>>, type=<ItemType.IMPRINT: 'imprint'>, version=1, objects_count=15059, _='')\n"
     ]
    }
   ],
   "source": [
    "async for e in client.imprint.search(\"不詳\"):\n",
    "    print(e)"
   ]
  },
  {
   "cell_type": "code",
   "execution_count": 13,
   "metadata": {},
   "outputs": [
    {
     "output_type": "stream",
     "name": "stdout",
     "text": [
      "Parody(_id='P1', id=1, prefix=<ElementPrefix.PARODY: 'P'>, english_name='(unknown)', japanese_name='不詳', romaji_name='', other_names=[], _type=<Type.TYPE: <ItemType.PARODY: 'parody'>>, type=<ItemType.PARODY: 'parody'>, version=4, objects_count=107196, _links=Parody.Linker(items=[]))\n"
     ]
    }
   ],
   "source": [
    "async for e in client.parody.search(\"不詳\"):\n",
    "    print(e)"
   ]
  },
  {
   "cell_type": "code",
   "execution_count": 14,
   "metadata": {},
   "outputs": [
    {
     "output_type": "stream",
     "name": "stdout",
     "text": [
      "Publisher(_id='L1', id=1, prefix=<ElementPrefix.PUBLISHER: 'L'>, english_name='Unknown', japanese_name='不詳', romaji_name='', other_names=[], _type=<Type.TYPE: <ItemType.PUBLISHER: 'publisher'>>, type=<ItemType.PUBLISHER: 'publisher'>, version=1, objects_count=70580, _='')\n"
     ]
    }
   ],
   "source": [
    "async for e in client.publisher.search(\"不詳\"):\n",
    "    print(e)"
   ]
  },
  {
   "cell_type": "code",
   "execution_count": 15,
   "metadata": {},
   "outputs": [
    {
     "output_type": "stream",
     "name": "stdout",
     "text": [
      "Book(_id='B797928', id=797928, prefix=<ElementPrefix.BOOK: 'B'>, english_name='', japanese_name='chindows7の再録集・年齢不詳のマジカルババア', romaji_name='', other_names=[], version=2, match_ratio=None, release_date=datetime.date(2015, 4, 19), isbn='', pages_count=192, is_adult=False, is_anthology=False, is_copybook=False, magazine=0, language=<Language.JAPANESE: 3>, info='', _links=Book.Linker(items=[Character(_id='H15666', id=15666, prefix=<ElementPrefix.CHARACTER: 'H'>, english_name='Kuroko Tetsuya', japanese_name='黒子テツヤ', romaji_name='クロコテツヤ', other_names=[], _type=<Type.TYPE: <ItemType.CHARACTER: 'character'>>, type=<ItemType.CHARACTER: 'character'>, version=5, objects_count=13450, sex=<Sex.MALE: 1>, age='', ratio=<Ratio.NOT_SET: 0>), Character(_id='H15668', id=15668, prefix=<ElementPrefix.CHARACTER: 'H'>, english_name='Kagami Taiga', japanese_name='火神大我', romaji_name='カガミタイガ', other_names=[], _type=<Type.TYPE: <ItemType.CHARACTER: 'character'>>, type=<ItemType.CHARACTER: 'character'>, version=14, objects_count=6113, sex=<Sex.MALE: 1>, age='', ratio=<Ratio.NOT_SET: 0>), Convention(_id='N1', id=1, prefix=<ElementPrefix.CONVENTION: 'N'>, english_name='Unknown', japanese_name='不詳', romaji_name='', other_names=[], _type=<Type.TYPE: <ItemType.CONVENTION: 'convention'>>, type=<ItemType.CONVENTION: 'convention'>, version=2, objects_count=690635, date_start='0000-00-00', date_end='0000-00-00', _=0), Publisher(_id='L3', id=3, prefix=<ElementPrefix.PUBLISHER: 'L'>, english_name='No Publisher', japanese_name='出版社なし', romaji_name='', other_names=[], _type=<Type.TYPE: <ItemType.PUBLISHER: 'publisher'>>, type=<ItemType.PUBLISHER: 'publisher'>, version=2, objects_count=1511068, _=0), Collection(_id='O2', id=2, prefix=<ElementPrefix.COLLECTION: 'O'>, english_name='No Collections', japanese_name='シリーズでない', romaji_name='', other_names=[], _type=<Type.TYPE: <ItemType.COLLECTION: 'collections'>>, type=<ItemType.COLLECTION: 'collections'>, version=4, objects_count=1729877, _=0), Type(_id='T1', id=1, prefix=<ElementPrefix.TYPE: 'T'>, english_name='Doujinshi', japanese_name='同人誌', romaji_name='', other_names=[], _type=<Type.TYPE: <ItemType.TYPE: 'type'>>, type=<ItemType.TYPE: 'type'>, version=1, objects_count=1345292, _=0), Circle(_id='C64943', id=64943, prefix=<ElementPrefix.CIRCLE: 'C'>, english_name='chindows7', japanese_name='chindows7', romaji_name='', other_names=[], _type=<Type.TYPE: <ItemType.CIRCLE: 'circle'>>, type=<ItemType.CIRCLE: 'circle'>, version=3, objects_count=16, parent=0, position=<Position.MAIN: 2>), Author(_id='A113598', id=113598, prefix=<ElementPrefix.AUTHOR: 'A'>, english_name='', japanese_name='チンドウ', romaji_name='チンドウ', other_names=[], _type=<Type.TYPE: <ItemType.AUTHOR: 'author'>>, type=<ItemType.AUTHOR: 'author'>, version=2, objects_count=12, parent=0, position=<Position.MAIN: 2>), Parody(_id='P1819', id=1819, prefix=<ElementPrefix.PARODY: 'P'>, english_name=\"Kuroko's Basketball\", japanese_name='黒子のバスケ', romaji_name='クロコノバスケ', other_names=[], _type=<Type.TYPE: <ItemType.PARODY: 'parody'>>, type=<ItemType.PARODY: 'parody'>, version=93, objects_count=39895, ratio=<Ratio.NOT_SET: 0>), Content(_id='K1', id=1, prefix=<ElementPrefix.CONTENT: 'K'>, english_name='Unknown', japanese_name='不詳', romaji_name='', other_names=[], _type=<Type.TYPE: <ItemType.CONTENT: 'contents'>>, type=<ItemType.CONTENT: 'contents'>, version=1, objects_count=1584607, ratio=<Ratio.NOT_SET: 0>)]))\nBook(_id='B672713', id=672713, prefix=<ElementPrefix.BOOK: 'B'>, english_name='', japanese_name='タイトル不詳', romaji_name='', other_names=[], version=2, match_ratio=None, release_date='0000-00-00', isbn='', pages_count=6, is_adult=False, is_anthology=False, is_copybook=True, magazine=0, language=<Language.JAPANESE: 3>, info='', _links=Book.Linker(items=[Convention(_id='N1', id=1, prefix=<ElementPrefix.CONVENTION: 'N'>, english_name='Unknown', japanese_name='不詳', romaji_name='', other_names=[], _type=<Type.TYPE: <ItemType.CONVENTION: 'convention'>>, type=<ItemType.CONVENTION: 'convention'>, version=2, objects_count=690635, date_start='0000-00-00', date_end='0000-00-00', _=0), Publisher(_id='L3', id=3, prefix=<ElementPrefix.PUBLISHER: 'L'>, english_name='No Publisher', japanese_name='出版社なし', romaji_name='', other_names=[], _type=<Type.TYPE: <ItemType.PUBLISHER: 'publisher'>>, type=<ItemType.PUBLISHER: 'publisher'>, version=2, objects_count=1511068, _=0), Collection(_id='O2', id=2, prefix=<ElementPrefix.COLLECTION: 'O'>, english_name='No Collections', japanese_name='シリーズでない', romaji_name='', other_names=[], _type=<Type.TYPE: <ItemType.COLLECTION: 'collections'>>, type=<ItemType.COLLECTION: 'collections'>, version=4, objects_count=1729877, _=0), Imprint(_id='I2', id=2, prefix=<ElementPrefix.IMPRINT: 'I'>, english_name='No Imprint', japanese_name='レーベルなし', romaji_name='', other_names=[], _type=<Type.TYPE: <ItemType.IMPRINT: 'imprint'>>, type=<ItemType.IMPRINT: 'imprint'>, version=2, objects_count=867242, _=0), Type(_id='T1', id=1, prefix=<ElementPrefix.TYPE: 'T'>, english_name='Doujinshi', japanese_name='同人誌', romaji_name='', other_names=[], _type=<Type.TYPE: <ItemType.TYPE: 'type'>>, type=<ItemType.TYPE: 'type'>, version=1, objects_count=1345292, _=0), Content(_id='K13', id=13, prefix=<ElementPrefix.CONTENT: 'K'>, english_name='Furry[0](General)', japanese_name='[0]ケモノ(全般)', romaji_name='ケモノゼンパン', other_names=['kemono'], _type=<Type.TYPE: <ItemType.CONTENT: 'contents'>>, type=<ItemType.CONTENT: 'contents'>, version=13, objects_count=16170, ratio=<Ratio.NOT_SET: 0>), Parody(_id='P11', id=11, prefix=<ElementPrefix.PARODY: 'P'>, english_name='Original', japanese_name='オリジナル', romaji_name='', other_names=['創作'], _type=<Type.TYPE: <ItemType.PARODY: 'parody'>>, type=<ItemType.PARODY: 'parody'>, version=4, objects_count=373311, ratio=<Ratio.ALL: 5>), Author(_id='A73394', id=73394, prefix=<ElementPrefix.AUTHOR: 'A'>, english_name='horipooh', japanese_name='ほりプー', romaji_name='ホリプー', other_names=['Horipu'], _type=<Type.TYPE: <ItemType.AUTHOR: 'author'>>, type=<ItemType.AUTHOR: 'author'>, version=20, objects_count=45, parent=0, position=<Position.MAIN: 2>), Circle(_id='C42666', id=42666, prefix=<ElementPrefix.CIRCLE: 'C'>, english_name='', japanese_name='いぬいま', romaji_name='イヌイマ', other_names=[], _type=<Type.TYPE: <ItemType.CIRCLE: 'circle'>>, type=<ItemType.CIRCLE: 'circle'>, version=17, objects_count=11, parent=0, position=<Position.MAIN: 2>)]))\nBook(_id='B872088', id=872088, prefix=<ElementPrefix.BOOK: 'B'>, english_name='', japanese_name='タイトル不詳', romaji_name='', other_names=[], version=1, match_ratio=None, release_date=datetime.date(2015, 12, 31), isbn='', pages_count=0, is_adult=False, is_anthology=False, is_copybook=True, magazine=0, language=<Language.JAPANESE: 3>, info='', _links=Book.Linker(items=[Convention(_id='N2386', id=2386, prefix=<ElementPrefix.CONVENTION: 'N'>, english_name='Comic Market 89', japanese_name='コミックマーケット 89', romaji_name='コミックマーケット89', other_names=['コミックマーケット89'], _type=<Type.TYPE: <ItemType.CONVENTION: 'convention'>>, type=<ItemType.CONVENTION: 'convention'>, version=1, objects_count=16270, date_start=datetime.date(2015, 12, 29), date_end=datetime.date(2015, 12, 31), _=0), Publisher(_id='L3', id=3, prefix=<ElementPrefix.PUBLISHER: 'L'>, english_name='No Publisher', japanese_name='出版社なし', romaji_name='', other_names=[], _type=<Type.TYPE: <ItemType.PUBLISHER: 'publisher'>>, type=<ItemType.PUBLISHER: 'publisher'>, version=2, objects_count=1511068, _=0), Collection(_id='O2', id=2, prefix=<ElementPrefix.COLLECTION: 'O'>, english_name='No Collections', japanese_name='シリーズでない', romaji_name='', other_names=[], _type=<Type.TYPE: <ItemType.COLLECTION: 'collections'>>, type=<ItemType.COLLECTION: 'collections'>, version=4, objects_count=1729877, _=0), Imprint(_id='I2', id=2, prefix=<ElementPrefix.IMPRINT: 'I'>, english_name='No Imprint', japanese_name='レーベルなし', romaji_name='', other_names=[], _type=<Type.TYPE: <ItemType.IMPRINT: 'imprint'>>, type=<ItemType.IMPRINT: 'imprint'>, version=2, objects_count=867242, _=0), Type(_id='T1', id=1, prefix=<ElementPrefix.TYPE: 'T'>, english_name='Doujinshi', japanese_name='同人誌', romaji_name='', other_names=[], _type=<Type.TYPE: <ItemType.TYPE: 'type'>>, type=<ItemType.TYPE: 'type'>, version=1, objects_count=1345292, _=0), Content(_id='K13', id=13, prefix=<ElementPrefix.CONTENT: 'K'>, english_name='Furry[0](General)', japanese_name='[0]ケモノ(全般)', romaji_name='ケモノゼンパン', other_names=['kemono'], _type=<Type.TYPE: <ItemType.CONTENT: 'contents'>>, type=<ItemType.CONTENT: 'contents'>, version=13, objects_count=16170, ratio=<Ratio.NOT_SET: 0>), Parody(_id='P11', id=11, prefix=<ElementPrefix.PARODY: 'P'>, english_name='Original', japanese_name='オリジナル', romaji_name='', other_names=['創作'], _type=<Type.TYPE: <ItemType.PARODY: 'parody'>>, type=<ItemType.PARODY: 'parody'>, version=4, objects_count=373311, ratio=<Ratio.NOT_SET: 0>), Author(_id='A1', id=1, prefix=<ElementPrefix.AUTHOR: 'A'>, english_name='(unknown)', japanese_name='不詳', romaji_name='', other_names=[], _type=<Type.TYPE: <ItemType.AUTHOR: 'author'>>, type=<ItemType.AUTHOR: 'author'>, version=6, objects_count=53358, parent=0, position=<Position.MAIN: 2>), Circle(_id='C49529', id=49529, prefix=<ElementPrefix.CIRCLE: 'C'>, english_name='', japanese_name='オーブタ子猫ね', romaji_name='', other_names=[], _type=<Type.TYPE: <ItemType.CIRCLE: 'circle'>>, type=<ItemType.CIRCLE: 'circle'>, version=25, objects_count=20, parent=0, position=<Position.MAIN: 2>)]))\nBook(_id='B1465947', id=1465947, prefix=<ElementPrefix.BOOK: 'B'>, english_name='', japanese_name='年齢不詳上司 (レオナルド受)', romaji_name='', other_names=[], version=1, match_ratio=None, release_date=datetime.date(2015, 8, 23), isbn='', pages_count=62, is_adult=False, is_anthology=False, is_copybook=False, magazine=0, language=<Language.JAPANESE: 3>, info='', _links=Book.Linker(items=[Convention(_id='N1', id=1, prefix=<ElementPrefix.CONVENTION: 'N'>, english_name='Unknown', japanese_name='不詳', romaji_name='', other_names=[], _type=<Type.TYPE: <ItemType.CONVENTION: 'convention'>>, type=<ItemType.CONVENTION: 'convention'>, version=2, objects_count=690635, date_start='0000-00-00', date_end='0000-00-00', _=0), Publisher(_id='L3', id=3, prefix=<ElementPrefix.PUBLISHER: 'L'>, english_name='No Publisher', japanese_name='出版社なし', romaji_name='', other_names=[], _type=<Type.TYPE: <ItemType.PUBLISHER: 'publisher'>>, type=<ItemType.PUBLISHER: 'publisher'>, version=2, objects_count=1511068, _=0), Collection(_id='O2', id=2, prefix=<ElementPrefix.COLLECTION: 'O'>, english_name='No Collections', japanese_name='シリーズでない', romaji_name='', other_names=[], _type=<Type.TYPE: <ItemType.COLLECTION: 'collections'>>, type=<ItemType.COLLECTION: 'collections'>, version=4, objects_count=1729877, _=0), Type(_id='T21', id=21, prefix=<ElementPrefix.TYPE: 'T'>, english_name='Doujin Novel', japanese_name='同人ノベル', romaji_name='', other_names=[], _type=<Type.TYPE: <ItemType.TYPE: 'type'>>, type=<ItemType.TYPE: 'type'>, version=2, objects_count=119822, _=0), Circle(_id='C135297', id=135297, prefix=<ElementPrefix.CIRCLE: 'C'>, english_name='', japanese_name='漢祭KST', romaji_name='', other_names=[], _type=<Type.TYPE: <ItemType.CIRCLE: 'circle'>>, type=<ItemType.CIRCLE: 'circle'>, version=1, objects_count=3, parent=0, position=<Position.MAIN: 2>), Parody(_id='P3804', id=3804, prefix=<ElementPrefix.PARODY: 'P'>, english_name='Blood Blockade Battlefront', japanese_name='血界戦線', romaji_name='ケッカイセンセン', other_names=[], _type=<Type.TYPE: <ItemType.PARODY: 'parody'>>, type=<ItemType.PARODY: 'parody'>, version=30, objects_count=7279, ratio=<Ratio.NOT_SET: 0>), Genre(_id='G226', id=226, prefix=<ElementPrefix.GENRE: 'G'>, english_name='For women', japanese_name='女性向け', romaji_name='', other_names=[], _type=<Type.TYPE: <ItemType.GENRE: 'genre'>>, type=<ItemType.GENRE: 'genre'>, version=1, objects_count=702863, ratio=<Ratio.NOT_SET: 0>), Author(_id='A1', id=1, prefix=<ElementPrefix.AUTHOR: 'A'>, english_name='(unknown)', japanese_name='不詳', romaji_name='', other_names=[], _type=<Type.TYPE: <ItemType.AUTHOR: 'author'>>, type=<ItemType.AUTHOR: 'author'>, version=6, objects_count=53358, parent=0, position=<Position.NOT_SET: 0>), Imprint(_id='I2', id=2, prefix=<ElementPrefix.IMPRINT: 'I'>, english_name='No Imprint', japanese_name='レーベルなし', romaji_name='', other_names=[], _type=<Type.TYPE: <ItemType.IMPRINT: 'imprint'>>, type=<ItemType.IMPRINT: 'imprint'>, version=2, objects_count=867242, _=0), Content(_id='K1', id=1, prefix=<ElementPrefix.CONTENT: 'K'>, english_name='Unknown', japanese_name='不詳', romaji_name='', other_names=[], _type=<Type.TYPE: <ItemType.CONTENT: 'contents'>>, type=<ItemType.CONTENT: 'contents'>, version=1, objects_count=1584607, ratio=<Ratio.NOT_SET: 0>)]))\nBook(_id='B20770', id=20770, prefix=<ElementPrefix.BOOK: 'B'>, english_name='Because/ Omedetou/ Children/ unknown/ Dark Red/ The Agony and the Ecstasy', japanese_name='BECAUSE/ オメデトウ/ CHILDREN/ 不詳/ Dark Red/ The Agony and the Ecstasy', romaji_name='', other_names=[], version=4, match_ratio=None, release_date='0000-00-00', isbn='', pages_count=196, is_adult=True, is_anthology=False, is_copybook=False, magazine=0, language=<Language.JAPANESE: 3>, info=\"This bootleg publication reprints six doujinshi. Due to the often sloppy writing and lack of full re-printing, I was not able to name all authors in the book and, for the fourth book reprinted, I could not read title, circle's name or author's name.\\r\\n\\r\\n(1) BECAUSE by Nankyoku Group (å\\x8d—æ¥µã‚°ãƒ«ãƒ¼ãƒ—)\\r\\n(2) Omedetou (ã‚ªãƒ¡ãƒ‡ãƒˆã‚¦)ã€€by Group Pinkodachi\\r\\n(3) CHILDREN by Shunran (æ˜¥è˜\\xadâ€\\x90ã\\x81—ã‚…ã‚“ã‚‰ã‚“â€\\x90)\\r\\n(4) unknown title by unknown circle and unknown author\\r\\n(5) Dark Red by Gekijou Pierrot (æ¿€æƒ…ãƒ”ã‚¨ãƒ\\xad)\\r\\n(6) The Agony and the Ecstasy by 1999\", _links=Book.Linker(items=[Circle(_id='C14407', id=14407, prefix=<ElementPrefix.CIRCLE: 'C'>, english_name='Shunran', japanese_name='春蘭', romaji_name='シュンラン', other_names=[], _type=<Type.TYPE: <ItemType.CIRCLE: 'circle'>>, type=<ItemType.CIRCLE: 'circle'>, version=19, objects_count=26, parent=0, position=<Position.MAIN: 2>), Convention(_id='N2', id=2, prefix=<ElementPrefix.CONVENTION: 'N'>, english_name='No Convention', japanese_name='No Convention', romaji_name='', other_names=['無'], _type=<Type.TYPE: <ItemType.CONVENTION: 'convention'>>, type=<ItemType.CONVENTION: 'convention'>, version=3, objects_count=214032, date_start='0000-00-00', date_end='0000-00-00', _=0), Publisher(_id='L3', id=3, prefix=<ElementPrefix.PUBLISHER: 'L'>, english_name='No Publisher', japanese_name='出版社なし', romaji_name='', other_names=[], _type=<Type.TYPE: <ItemType.PUBLISHER: 'publisher'>>, type=<ItemType.PUBLISHER: 'publisher'>, version=2, objects_count=1511068, _=0), Collection(_id='O2', id=2, prefix=<ElementPrefix.COLLECTION: 'O'>, english_name='No Collections', japanese_name='シリーズでない', romaji_name='', other_names=[], _type=<Type.TYPE: <ItemType.COLLECTION: 'collections'>>, type=<ItemType.COLLECTION: 'collections'>, version=4, objects_count=1729877, _=0), Type(_id='T19', id=19, prefix=<ElementPrefix.TYPE: 'T'>, english_name='Bootleg', japanese_name='海賊版', romaji_name='', other_names=[], _type=<Type.TYPE: <ItemType.TYPE: 'type'>>, type=<ItemType.TYPE: 'type'>, version=1, objects_count=5, _=0), Circle(_id='C3000', id=3000, prefix=<ElementPrefix.CIRCLE: 'C'>, english_name='Nankyoku Group', japanese_name='南極グループ', romaji_name='', other_names=[], _type=<Type.TYPE: <ItemType.CIRCLE: 'circle'>>, type=<ItemType.CIRCLE: 'circle'>, version=1, objects_count=3, parent=0, position=<Position.MAIN: 2>), Circle(_id='C3001', id=3001, prefix=<ElementPrefix.CIRCLE: 'C'>, english_name='Group Pinkodachi', japanese_name='GROUP PINKODACHI', romaji_name='', other_names=[], _type=<Type.TYPE: <ItemType.CIRCLE: 'circle'>>, type=<ItemType.CIRCLE: 'circle'>, version=1, objects_count=2, parent=0, position=<Position.MAIN: 2>), Circle(_id='C3003', id=3003, prefix=<ElementPrefix.CIRCLE: 'C'>, english_name='Gekijou Pierrot', japanese_name='激情ピエロ', romaji_name='', other_names=[], _type=<Type.TYPE: <ItemType.CIRCLE: 'circle'>>, type=<ItemType.CIRCLE: 'circle'>, version=2, objects_count=6, parent=0, position=<Position.MAIN: 2>), Circle(_id='C3004', id=3004, prefix=<ElementPrefix.CIRCLE: 'C'>, english_name='1999', japanese_name='1999', romaji_name='1999', other_names=[], _type=<Type.TYPE: <ItemType.CIRCLE: 'circle'>>, type=<ItemType.CIRCLE: 'circle'>, version=2, objects_count=2, parent=0, position=<Position.MAIN: 2>), Circle(_id='C1', id=1, prefix=<ElementPrefix.CIRCLE: 'C'>, english_name='(unknown)', japanese_name='不詳', romaji_name='', other_names=[], _type=<Type.TYPE: <ItemType.CIRCLE: 'circle'>>, type=<ItemType.CIRCLE: 'circle'>, version=8, objects_count=1867, parent=0, position=<Position.MAIN: 2>), Author(_id='A6876', id=6876, prefix=<ElementPrefix.AUTHOR: 'A'>, english_name='Nankyouku Tarou', japanese_name='南極太郎', romaji_name='', other_names=[], _type=<Type.TYPE: <ItemType.AUTHOR: 'author'>>, type=<ItemType.AUTHOR: 'author'>, version=2, objects_count=3, parent=0, position=<Position.MAIN: 2>), Author(_id='A6877', id=6877, prefix=<ElementPrefix.AUTHOR: 'A'>, english_name='Park Side Ono', japanese_name='パークサイド小野', romaji_name='', other_names=[], _type=<Type.TYPE: <ItemType.AUTHOR: 'author'>>, type=<ItemType.AUTHOR: 'author'>, version=1, objects_count=3, parent=0, position=<Position.MAIN: 2>), Author(_id='A1147', id=1147, prefix=<ElementPrefix.AUTHOR: 'A'>, english_name='Yamanobe Kitta', japanese_name='やまのべきった', romaji_name='ヤマノベキッタ', other_names=[], _type=<Type.TYPE: <ItemType.AUTHOR: 'author'>>, type=<ItemType.AUTHOR: 'author'>, version=7, objects_count=219, parent=0, position=<Position.MAIN: 2>), Author(_id='A1', id=1, prefix=<ElementPrefix.AUTHOR: 'A'>, english_name='(unknown)', japanese_name='不詳', romaji_name='', other_names=[], _type=<Type.TYPE: <ItemType.AUTHOR: 'author'>>, type=<ItemType.AUTHOR: 'author'>, version=6, objects_count=53358, parent=0, position=<Position.MAIN: 2>), Author(_id='A6878', id=6878, prefix=<ElementPrefix.AUTHOR: 'A'>, english_name='Yopashi Ayasa', japanese_name='よぱしあやさ', romaji_name='ヨパシアヤサ', other_names=[], _type=<Type.TYPE: <ItemType.AUTHOR: 'author'>>, type=<ItemType.AUTHOR: 'author'>, version=1, objects_count=1, parent=0, position=<Position.MAIN: 2>), Author(_id='A6879', id=6879, prefix=<ElementPrefix.AUTHOR: 'A'>, english_name='Eimu Yuu', japanese_name='影夢優', romaji_name='', other_names=[], _type=<Type.TYPE: <ItemType.AUTHOR: 'author'>>, type=<ItemType.AUTHOR: 'author'>, version=24, objects_count=75, parent=1581, position=<Position.MAIN: 2>), Author(_id='A6880', id=6880, prefix=<ElementPrefix.AUTHOR: 'A'>, english_name='Yuuki Alice', japanese_name='夕姫ありす', romaji_name='', other_names=[], _type=<Type.TYPE: <ItemType.AUTHOR: 'author'>>, type=<ItemType.AUTHOR: 'author'>, version=1, objects_count=67, parent=0, position=<Position.MAIN: 2>), Author(_id='A6881', id=6881, prefix=<ElementPrefix.AUTHOR: 'A'>, english_name='Morino Makoto', japanese_name='森野真琴', romaji_name='', other_names=[], _type=<Type.TYPE: <ItemType.AUTHOR: 'author'>>, type=<ItemType.AUTHOR: 'author'>, version=2, objects_count=1, parent=0, position=<Position.MAIN: 2>), Author(_id='A6882', id=6882, prefix=<ElementPrefix.AUTHOR: 'A'>, english_name='AKIRA.N', japanese_name='Akira.N', romaji_name='', other_names=[], _type=<Type.TYPE: <ItemType.AUTHOR: 'author'>>, type=<ItemType.AUTHOR: 'author'>, version=1, objects_count=1, parent=0, position=<Position.MAIN: 2>), Author(_id='A6883', id=6883, prefix=<ElementPrefix.AUTHOR: 'A'>, english_name='Yamino Yomiko', japanese_name='闇乃黄泉子', romaji_name='ヤミノヨミコ', other_names=[], _type=<Type.TYPE: <ItemType.AUTHOR: 'author'>>, type=<ItemType.AUTHOR: 'author'>, version=2, objects_count=6, parent=0, position=<Position.MAIN: 2>), Author(_id='A6884', id=6884, prefix=<ElementPrefix.AUTHOR: 'A'>, english_name='Oscar W Tachibanaana', japanese_name='オスカー・W・タチバナーナ', romaji_name='', other_names=[], _type=<Type.TYPE: <ItemType.AUTHOR: 'author'>>, type=<ItemType.AUTHOR: 'author'>, version=2, objects_count=1, parent=0, position=<Position.MAIN: 2>), Author(_id='A6885', id=6885, prefix=<ElementPrefix.AUTHOR: 'A'>, english_name='Takano Kata', japanese_name='TAKANO KATA', romaji_name='', other_names=[], _type=<Type.TYPE: <ItemType.AUTHOR: 'author'>>, type=<ItemType.AUTHOR: 'author'>, version=1, objects_count=2, parent=0, position=<Position.MAIN: 2>), Parody(_id='P27', id=27, prefix=<ElementPrefix.PARODY: 'P'>, english_name='Shinseiki Evangelion', japanese_name='新世紀エヴァンゲリオン', romaji_name='シンセイキエヴァンゲリオン', other_names=['Neon Genesis Evangelion', 'NGE'], _type=<Type.TYPE: <ItemType.PARODY: 'parody'>>, type=<ItemType.PARODY: 'parody'>, version=29, objects_count=5586, ratio=<Ratio.MOST: 4>), Parody(_id='P14', id=14, prefix=<ElementPrefix.PARODY: 'P'>, english_name='Cardcaptor Sakura', japanese_name='カードキャプターさくら', romaji_name='', other_names=['CCS', 'CCさくら', 'Cardcaptors', 'Card Captor Sakura'], _type=<Type.TYPE: <ItemType.PARODY: 'parody'>>, type=<ItemType.PARODY: 'parody'>, version=19, objects_count=2116, ratio=<Ratio.VERY_FEW: 1>), Parody(_id='P29', id=29, prefix=<ElementPrefix.PARODY: 'P'>, english_name='Bishoujo Senshi Sailor Moon', japanese_name='美少女戦士セーラームーン', romaji_name='ビショウジョセンシセーラームーン', other_names=['Sailor Moon', 'セーラームーン'], _type=<Type.TYPE: <ItemType.PARODY: 'parody'>>, type=<ItemType.PARODY: 'parody'>, version=48, objects_count=1550, ratio=<Ratio.VERY_FEW: 1>), Content(_id='K49', id=49, prefix=<ElementPrefix.CONTENT: 'K'>, english_name='Masturbation', japanese_name='自慰・性器愛撫', romaji_name='', other_names=['オナニー', 'マスターベーション', '強制マスターベーション'], _type=<Type.TYPE: <ItemType.CONTENT: 'contents'>>, type=<ItemType.CONTENT: 'contents'>, version=3, objects_count=17706, ratio=<Ratio.SOME: 2>), Content(_id='K15', id=15, prefix=<ElementPrefix.CONTENT: 'K'>, english_name='Loli', japanese_name='ロリ', romaji_name='', other_names=['lolicon', 'lolikon', 'rorikon', 'ロリコン'], _type=<Type.TYPE: <ItemType.CONTENT: 'contents'>>, type=<ItemType.CONTENT: 'contents'>, version=3, objects_count=74955, ratio=<Ratio.SOME: 2>), Content(_id='K8', id=8, prefix=<ElementPrefix.CONTENT: 'K'>, english_name='Futanari', japanese_name='ふたなり', romaji_name='', other_names=[], _type=<Type.TYPE: <ItemType.CONTENT: 'contents'>>, type=<ItemType.CONTENT: 'contents'>, version=1, objects_count=15913, ratio=<Ratio.SOME: 2>), Content(_id='K48', id=48, prefix=<ElementPrefix.CONTENT: 'K'>, english_name='Domination (Femdom)', japanese_name='女性支配・女王様・ドミナ', romaji_name='', other_names=[], _type=<Type.TYPE: <ItemType.CONTENT: 'contents'>>, type=<ItemType.CONTENT: 'contents'>, version=2, objects_count=7230, ratio=<Ratio.SOME: 2>), Content(_id='K158', id=158, prefix=<ElementPrefix.CONTENT: 'K'>, english_name='Oral Sex', japanese_name='オーラル・セックス', romaji_name='', other_names=['口腔プレイ'], _type=<Type.TYPE: <ItemType.CONTENT: 'contents'>>, type=<ItemType.CONTENT: 'contents'>, version=2, objects_count=36446, ratio=<Ratio.SOME: 2>), Content(_id='K201', id=201, prefix=<ElementPrefix.CONTENT: 'K'>, english_name='Plugsuit', japanese_name='プラグスーツ', romaji_name='', other_names=[], _type=<Type.TYPE: <ItemType.CONTENT: 'contents'>>, type=<ItemType.CONTENT: 'contents'>, version=2, objects_count=190, ratio=<Ratio.VERY_FEW: 1>), Content(_id='K251', id=251, prefix=<ElementPrefix.CONTENT: 'K'>, english_name='Strap-on', japanese_name='ペニスバンド', romaji_name='', other_names=[], _type=<Type.TYPE: <ItemType.CONTENT: 'contents'>>, type=<ItemType.CONTENT: 'contents'>, version=1, objects_count=2889, ratio=<Ratio.NOT_SET: 0>), Content(_id='K9', id=9, prefix=<ElementPrefix.CONTENT: 'K'>, english_name='Breasts (Large)', japanese_name='巨乳', romaji_name='キョニュウ', other_names=[], _type=<Type.TYPE: <ItemType.CONTENT: 'contents'>>, type=<ItemType.CONTENT: 'contents'>, version=2, objects_count=60126, ratio=<Ratio.NOT_SET: 0>), Content(_id='K187', id=187, prefix=<ElementPrefix.CONTENT: 'K'>, english_name='Lesbian, Yuri', japanese_name='女性同性愛, レズ, 百合', romaji_name='', other_names=[\"Girl's Love\"], _type=<Type.TYPE: <ItemType.CONTENT: 'contents'>>, type=<ItemType.CONTENT: 'contents'>, version=4, objects_count=22315, ratio=<Ratio.NOT_SET: 0>), Content(_id='K601', id=601, prefix=<ElementPrefix.CONTENT: 'K'>, english_name='School Girl', japanese_name='女子生徒', romaji_name='', other_names=[], _type=<Type.TYPE: <ItemType.CONTENT: 'contents'>>, type=<ItemType.CONTENT: 'contents'>, version=3, objects_count=20320, ratio=<Ratio.NOT_SET: 0>), Content(_id='K66', id=66, prefix=<ElementPrefix.CONTENT: 'K'>, english_name='Group Sex', japanese_name='グループセックス', romaji_name='', other_names=['乱交'], _type=<Type.TYPE: <ItemType.CONTENT: 'contents'>>, type=<ItemType.CONTENT: 'contents'>, version=4, objects_count=40038, ratio=<Ratio.NOT_SET: 0>), Character(_id='H284', id=284, prefix=<ElementPrefix.CHARACTER: 'H'>, english_name='Ikari Shinji', japanese_name='碇シンジ', romaji_name='イカリシンジ', other_names=[], _type=<Type.TYPE: <ItemType.CHARACTER: 'character'>>, type=<ItemType.CHARACTER: 'character'>, version=18, objects_count=2380, sex=<Sex.MALE: 1>, age='', ratio=<Ratio.NOT_SET: 0>), Character(_id='H310', id=310, prefix=<ElementPrefix.CHARACTER: 'H'>, english_name='Ayanami Rei', japanese_name='綾波レイ', romaji_name='アヤナミレイ', other_names=[], _type=<Type.TYPE: <ItemType.CHARACTER: 'character'>>, type=<ItemType.CHARACTER: 'character'>, version=16, objects_count=1101, sex=<Sex.FEMALE: 2>, age='14', ratio=<Ratio.NOT_SET: 0>), Character(_id='H161', id=161, prefix=<ElementPrefix.CHARACTER: 'H'>, english_name='Sohryu Asuka Langley', japanese_name='惣流・アスカ・ラングレー', romaji_name='ソウリュウアスカラングレー', other_names=['式波・アスカ・ラングレー', 'Shikinami Asuka Langley'], _type=<Type.TYPE: <ItemType.CHARACTER: 'character'>>, type=<ItemType.CHARACTER: 'character'>, version=15, objects_count=1526, sex=<Sex.FEMALE: 2>, age='14', ratio=<Ratio.NOT_SET: 0>), Character(_id='H315', id=315, prefix=<ElementPrefix.CHARACTER: 'H'>, english_name='Akagi Ritsuko', japanese_name='赤木リツコ', romaji_name='アカギリツコ', other_names=[], _type=<Type.TYPE: <ItemType.CHARACTER: 'character'>>, type=<ItemType.CHARACTER: 'character'>, version=4, objects_count=265, sex=<Sex.FEMALE: 2>, age='', ratio=<Ratio.NOT_SET: 0>)]))\nBook(_id='B1679364', id=1679364, prefix=<ElementPrefix.BOOK: 'B'>, english_name='Nenrei Fushou no Kinoe Kishi Danchou', japanese_name='年齢不詳近衛騎士団長', romaji_name='', other_names=[], version=1, match_ratio=None, release_date=datetime.date(2018, 2, 11), isbn='', pages_count=16, is_adult=True, is_anthology=False, is_copybook=False, magazine=0, language=<Language.JAPANESE: 3>, info='', _links=Book.Linker(items=[Convention(_id='N1', id=1, prefix=<ElementPrefix.CONVENTION: 'N'>, english_name='Unknown', japanese_name='不詳', romaji_name='', other_names=[], _type=<Type.TYPE: <ItemType.CONVENTION: 'convention'>>, type=<ItemType.CONVENTION: 'convention'>, version=2, objects_count=690635, date_start='0000-00-00', date_end='0000-00-00', _=0), Collection(_id='O2', id=2, prefix=<ElementPrefix.COLLECTION: 'O'>, english_name='No Collections', japanese_name='シリーズでない', romaji_name='', other_names=[], _type=<Type.TYPE: <ItemType.COLLECTION: 'collections'>>, type=<ItemType.COLLECTION: 'collections'>, version=4, objects_count=1729877, _=0), Type(_id='T1', id=1, prefix=<ElementPrefix.TYPE: 'T'>, english_name='Doujinshi', japanese_name='同人誌', romaji_name='', other_names=[], _type=<Type.TYPE: <ItemType.TYPE: 'type'>>, type=<ItemType.TYPE: 'type'>, version=1, objects_count=1345292, _=0), Circle(_id='C107648', id=107648, prefix=<ElementPrefix.CIRCLE: 'C'>, english_name='MHP', japanese_name='MHP', romaji_name='', other_names=[], _type=<Type.TYPE: <ItemType.CIRCLE: 'circle'>>, type=<ItemType.CIRCLE: 'circle'>, version=2, objects_count=13, parent=0, position=<Position.MAIN: 2>), Author(_id='A17074', id=17074, prefix=<ElementPrefix.AUTHOR: 'A'>, english_name='HIKARI', japanese_name='HIKARI', romaji_name='', other_names=[], _type=<Type.TYPE: <ItemType.AUTHOR: 'author'>>, type=<ItemType.AUTHOR: 'author'>, version=5, objects_count=7, parent=0, position=<Position.MAIN: 2>), Parody(_id='P5081', id=5081, prefix=<ElementPrefix.PARODY: 'P'>, english_name='Millennium War Aigis', japanese_name='千年戦争アイギス', romaji_name='センネンセンソウアイギス', other_names=[], _type=<Type.TYPE: <ItemType.PARODY: 'parody'>>, type=<ItemType.PARODY: 'parody'>, version=239, objects_count=631, ratio=<Ratio.NOT_SET: 0>), Genre(_id='G227', id=227, prefix=<ElementPrefix.GENRE: 'G'>, english_name='For men', japanese_name='男性向け', romaji_name='', other_names=[], _type=<Type.TYPE: <ItemType.GENRE: 'genre'>>, type=<ItemType.GENRE: 'genre'>, version=1, objects_count=346630, ratio=<Ratio.NOT_SET: 0>), Imprint(_id='I2', id=2, prefix=<ElementPrefix.IMPRINT: 'I'>, english_name='No Imprint', japanese_name='レーベルなし', romaji_name='', other_names=[], _type=<Type.TYPE: <ItemType.IMPRINT: 'imprint'>>, type=<ItemType.IMPRINT: 'imprint'>, version=2, objects_count=867242, _=0), Publisher(_id='L3', id=3, prefix=<ElementPrefix.PUBLISHER: 'L'>, english_name='No Publisher', japanese_name='出版社なし', romaji_name='', other_names=[], _type=<Type.TYPE: <ItemType.PUBLISHER: 'publisher'>>, type=<ItemType.PUBLISHER: 'publisher'>, version=2, objects_count=1511068, _=0), Content(_id='K1', id=1, prefix=<ElementPrefix.CONTENT: 'K'>, english_name='Unknown', japanese_name='不詳', romaji_name='', other_names=[], _type=<Type.TYPE: <ItemType.CONTENT: 'contents'>>, type=<ItemType.CONTENT: 'contents'>, version=1, objects_count=1584607, ratio=<Ratio.NOT_SET: 0>)]))\n"
     ]
    }
   ],
   "source": [
    "async for e in client.book.search(\"不詳\"):\n",
    "    print(e)"
   ]
  }
 ]
}