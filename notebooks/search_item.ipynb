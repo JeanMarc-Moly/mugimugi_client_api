{
 "metadata": {
  "language_info": {
   "codemirror_mode": {
    "name": "ipython",
    "version": 3
   },
   "file_extension": ".py",
   "mimetype": "text/x-python",
   "name": "python",
   "nbconvert_exporter": "python",
   "pygments_lexer": "ipython3",
   "version": "3.9.0-final"
  },
  "orig_nbformat": 2,
  "kernelspec": {
   "name": "python38664bitpythonenvcondac3d489905bf8462fa14a00176046c2f1",
   "display_name": "Python 3.8.6 64-bit ('.python_env': conda)"
  }
 },
 "nbformat": 4,
 "nbformat_minor": 2,
 "cells": [
  {
   "cell_type": "code",
   "execution_count": 1,
   "metadata": {},
   "outputs": [
    {
     "output_type": "stream",
     "name": "stdout",
     "text": [
      "/home/oji/dev/mugimugi\n"
     ]
    }
   ],
   "source": [
    "cd .."
   ]
  },
  {
   "cell_type": "code",
   "execution_count": 2,
   "metadata": {},
   "outputs": [],
   "source": [
    "from mugimugi import MugiMugi\n",
    "\n",
    "client = MugiMugi()"
   ]
  },
  {
   "cell_type": "code",
   "execution_count": 3,
   "metadata": {},
   "outputs": [
    {
     "output_type": "stream",
     "name": "stdout",
     "text": [
      "<LIST>\n  <ITEM ID=\"A1\" VER=\"6\" TYPE=\"author\" PARENT=\"0\">\n    <NAME_EN>(unknown)</NAME_EN>\n    <NAME_JP>不詳</NAME_JP>\n    <NAME_R></NAME_R>\n    <OBJECTS>52413</OBJECTS>\n    <LINKS/>\n  </ITEM>\n  <ITEM ID=\"A240391\" VER=\"1\" TYPE=\"author\" PARENT=\"0\">\n    <NAME_EN>【needs specifying】 usagi</NAME_EN>\n    <NAME_JP>うさぎ</NAME_JP>\n    <NAME_R></NAME_R>\n    <OBJECTS>1</OBJECTS>\n    <NAME_ALT>不詳 / unidentified</NAME_ALT>\n    <LINKS/>\n  </ITEM>\n  <ITEM ID=\"A35356\" VER=\"2\" TYPE=\"author\" PARENT=\"0\">\n    <NAME_EN>Kouya Sumeragi</NAME_EN>\n    <NAME_JP>[不詳]Kouya Sumeragi</NAME_JP>\n    <NAME_R></NAME_R>\n    <OBJECTS>1</OBJECTS>\n    <LINKS/>\n  </ITEM>\n  <ITEM ID=\"A2017\" VER=\"2\" TYPE=\"author\" PARENT=\"0\">\n    <NAME_EN>Matori You</NAME_EN>\n    <NAME_JP>(表記不詳)Matori You</NAME_JP>\n    <NAME_R></NAME_R>\n    <OBJECTS>1</OBJECTS>\n    <LINKS/>\n  </ITEM>\n  <ITEM ID=\"A4951\" VER=\"2\" TYPE=\"author\" PARENT=\"0\">\n    <NAME_EN>Minagi.N.</NAME_EN>\n    <NAME_JP>[不詳]</NAME_JP>\n    <NAME_R></NAME_R>\n    <OBJECTS>1</OBJECTS>\n    <LINKS/>\n  </ITEM>\n  <ITEM ID=\"A35517\" VER=\"2\" TYPE=\"author\" PARENT=\"0\">\n    <NAME_EN>Renjyo Kamisaki</NAME_EN>\n    <NAME_JP>[不詳]Renjyo Kamisaki</NAME_JP>\n    <NAME_R></NAME_R>\n    <OBJECTS>1</OBJECTS>\n    <LINKS/>\n  </ITEM>\n  <ITEM ID=\"A5591\" VER=\"3\" TYPE=\"author\" PARENT=\"0\">\n    <NAME_EN>Ruru Sanjoe</NAME_EN>\n    <NAME_JP>[不詳]Ruru Sanjoe</NAME_JP>\n    <NAME_R></NAME_R>\n    <OBJECTS>1</OBJECTS>\n    <LINKS/>\n  </ITEM>\n  <ITEM ID=\"A22360\" VER=\"2\" TYPE=\"author\" PARENT=\"0\">\n    <NAME_EN>Sakusha Fushou</NAME_EN>\n    <NAME_JP>作者不詳</NAME_JP>\n    <NAME_R>サクシャフショウ</NAME_R>\n    <OBJECTS>2</OBJECTS>\n    <LINKS/>\n  </ITEM>\n  <ITEM ID=\"A1056\" VER=\"12\" TYPE=\"author\" PARENT=\"0\">\n    <NAME_EN>Yu-tsu</NAME_EN>\n    <NAME_JP>(表記不詳)Yu-tsu</NAME_JP>\n    <NAME_R></NAME_R>\n    <OBJECTS>2</OBJECTS>\n    <LINKS>\n      <ITEM ID=\"K15\" VER=\"3\" TYPE=\"contents\">\n        <NAME_EN>Loli</NAME_EN>\n        <NAME_JP>ロリ</NAME_JP>\n        <NAME_R></NAME_R>\n        <OBJECTS>74260</OBJECTS>\n        <NAME_ALT>lolicon</NAME_ALT>\n        <NAME_ALT>lolikon</NAME_ALT>\n        <NAME_ALT>rorikon</NAME_ALT>\n        <NAME_ALT>ロリコン</NAME_ALT>\n      </ITEM>\n    </LINKS>\n  </ITEM>\n  <ITEM ID=\"A19523\" VER=\"2\" TYPE=\"author\" PARENT=\"0\">\n    <NAME_EN>Yumeno Miyako</NAME_EN>\n    <NAME_JP>[不詳]Yumeno Miyako</NAME_JP>\n    <NAME_R></NAME_R>\n    <OBJECTS>1</OBJECTS>\n    <LINKS/>\n  </ITEM>\n  <USER id=\"47951\">\n    <User>ojisan</User>\n    <Queries>871</Queries>\n    <Image_Queries>1100</Image_Queries>\n  </USER>\n</LIST>\n\nItem(id='A1', type_='author', parent='0', english_name='(unknown)', japanese_name='不詳', romaji_name='', objects_count=52413, version=6, items='\\n    ')\n5\nItem(id='A240391', type_='author', parent='0', english_name='【needs specifying】 usagi', japanese_name='うさぎ', romaji_name='', objects_count=1, version=1, items='\\n    ')\n5\nItem(id='A35356', type_='author', parent='0', english_name='Kouya Sumeragi', japanese_name='[不詳]Kouya Sumeragi', romaji_name='', objects_count=1, version=2, items='\\n    ')\n5\nItem(id='A2017', type_='author', parent='0', english_name='Matori You', japanese_name='(表記不詳)Matori You', romaji_name='', objects_count=1, version=2, items='\\n    ')\n5\nItem(id='A4951', type_='author', parent='0', english_name='Minagi.N.', japanese_name='[不詳]', romaji_name='', objects_count=1, version=2, items='\\n    ')\n5\nItem(id='A35517', type_='author', parent='0', english_name='Renjyo Kamisaki', japanese_name='[不詳]Renjyo Kamisaki', romaji_name='', objects_count=1, version=2, items='\\n    ')\n5\nItem(id='A5591', type_='author', parent='0', english_name='Ruru Sanjoe', japanese_name='[不詳]Ruru Sanjoe', romaji_name='', objects_count=1, version=3, items='\\n    ')\n5\nItem(id='A22360', type_='author', parent='0', english_name='Sakusha Fushou', japanese_name='作者不詳', romaji_name='サクシャフショウ', objects_count=2, version=2, items='\\n    ')\n5\n"
     ]
    },
    {
     "output_type": "error",
     "ename": "XmlContextError",
     "evalue": "Primitive node doesn't support child nodes!",
     "traceback": [
      "\u001b[0;31m---------------------------------------------------------------------------\u001b[0m",
      "\u001b[0;31mXmlContextError\u001b[0m                           Traceback (most recent call last)",
      "\u001b[0;32m<ipython-input-3-fcb2b6bf21f0>\u001b[0m in \u001b[0;36m<module>\u001b[0;34m\u001b[0m\n\u001b[0;32m----> 1\u001b[0;31m \u001b[0;32masync\u001b[0m \u001b[0;32mfor\u001b[0m \u001b[0me\u001b[0m \u001b[0;32min\u001b[0m \u001b[0mclient\u001b[0m\u001b[0;34m.\u001b[0m\u001b[0mauthor\u001b[0m\u001b[0;34m.\u001b[0m\u001b[0msearch\u001b[0m\u001b[0;34m(\u001b[0m\u001b[0;34m\"不詳\"\u001b[0m\u001b[0;34m)\u001b[0m\u001b[0;34m:\u001b[0m\u001b[0;34m\u001b[0m\u001b[0;34m\u001b[0m\u001b[0m\n\u001b[0m\u001b[1;32m      2\u001b[0m     \u001b[0mprint\u001b[0m\u001b[0;34m(\u001b[0m\u001b[0me\u001b[0m\u001b[0;34m)\u001b[0m\u001b[0;34m\u001b[0m\u001b[0;34m\u001b[0m\u001b[0m\n\u001b[1;32m      3\u001b[0m     \u001b[0mprint\u001b[0m\u001b[0;34m(\u001b[0m\u001b[0mlen\u001b[0m\u001b[0;34m(\u001b[0m\u001b[0me\u001b[0m\u001b[0;34m.\u001b[0m\u001b[0mitems\u001b[0m\u001b[0;34m)\u001b[0m\u001b[0;34m)\u001b[0m\u001b[0;34m\u001b[0m\u001b[0;34m\u001b[0m\u001b[0m\n",
      "\u001b[0;32m~/dev/mugimugi/mugimugi/service/abstract_item.py\u001b[0m in \u001b[0;36msearch\u001b[0;34m(self, title, contributor, sort_criterion, sort_order, limit)\u001b[0m\n\u001b[1;32m     71\u001b[0m             \u001b[0mlimit\u001b[0m\u001b[0;34m=\u001b[0m\u001b[0mlimit\u001b[0m\u001b[0;34m,\u001b[0m\u001b[0;34m\u001b[0m\u001b[0;34m\u001b[0m\u001b[0m\n\u001b[1;32m     72\u001b[0m         ):\n\u001b[0;32m---> 73\u001b[0;31m             \u001b[0;32myield\u001b[0m \u001b[0mparse_to_object\u001b[0m\u001b[0;34m(\u001b[0m\u001b[0mitem\u001b[0m\u001b[0;34m,\u001b[0m \u001b[0mself\u001b[0m\u001b[0;34m.\u001b[0m\u001b[0mCONSTRUCTOR\u001b[0m\u001b[0;34m)\u001b[0m\u001b[0;34m\u001b[0m\u001b[0;34m\u001b[0m\u001b[0m\n\u001b[0m\u001b[1;32m     74\u001b[0m \u001b[0;34m\u001b[0m\u001b[0m\n\u001b[1;32m     75\u001b[0m     \u001b[0;32masync\u001b[0m \u001b[0;32mdef\u001b[0m \u001b[0madd\u001b[0m\u001b[0;34m(\u001b[0m\u001b[0mself\u001b[0m\u001b[0;34m,\u001b[0m \u001b[0;34m**\u001b[0m\u001b[0mkwargs\u001b[0m\u001b[0;34m)\u001b[0m \u001b[0;34m->\u001b[0m \u001b[0mE\u001b[0m\u001b[0;34m:\u001b[0m\u001b[0;34m\u001b[0m\u001b[0;34m\u001b[0m\u001b[0m\n",
      "\u001b[0;32m~/dev/mugimugi/mugimugi/util/xml.py\u001b[0m in \u001b[0;36mparse_to_object\u001b[0;34m(xml, class_)\u001b[0m\n\u001b[1;32m      9\u001b[0m \u001b[0;34m\u001b[0m\u001b[0m\n\u001b[1;32m     10\u001b[0m \u001b[0;32mdef\u001b[0m \u001b[0mparse_to_object\u001b[0m\u001b[0;34m(\u001b[0m\u001b[0mxml\u001b[0m\u001b[0;34m:\u001b[0m \u001b[0mUnion\u001b[0m\u001b[0;34m[\u001b[0m\u001b[0mstr\u001b[0m\u001b[0;34m,\u001b[0m \u001b[0mbytes\u001b[0m\u001b[0;34m]\u001b[0m\u001b[0;34m,\u001b[0m \u001b[0mclass_\u001b[0m\u001b[0;34m:\u001b[0m \u001b[0mType\u001b[0m\u001b[0;34m)\u001b[0m\u001b[0;34m:\u001b[0m\u001b[0;34m\u001b[0m\u001b[0;34m\u001b[0m\u001b[0m\n\u001b[0;32m---> 11\u001b[0;31m     \u001b[0;32mreturn\u001b[0m \u001b[0mparse\u001b[0m\u001b[0;34m(\u001b[0m\u001b[0mtostring\u001b[0m\u001b[0;34m(\u001b[0m\u001b[0mxml\u001b[0m\u001b[0;34m)\u001b[0m\u001b[0;34m,\u001b[0m \u001b[0mclass_\u001b[0m\u001b[0;34m)\u001b[0m\u001b[0;34m\u001b[0m\u001b[0;34m\u001b[0m\u001b[0m\n\u001b[0m",
      "\u001b[0;32m~/dev/mugimugi/.python_env/lib/python3.9/site-packages/xsdata/formats/bindings.py\u001b[0m in \u001b[0;36mfrom_bytes\u001b[0;34m(self, source, clazz)\u001b[0m\n\u001b[1;32m     26\u001b[0m     \u001b[0;32mdef\u001b[0m \u001b[0mfrom_bytes\u001b[0m\u001b[0;34m(\u001b[0m\u001b[0mself\u001b[0m\u001b[0;34m,\u001b[0m \u001b[0msource\u001b[0m\u001b[0;34m:\u001b[0m \u001b[0mbytes\u001b[0m\u001b[0;34m,\u001b[0m \u001b[0mclazz\u001b[0m\u001b[0;34m:\u001b[0m \u001b[0mType\u001b[0m\u001b[0;34m[\u001b[0m\u001b[0mT\u001b[0m\u001b[0;34m]\u001b[0m\u001b[0;34m)\u001b[0m \u001b[0;34m->\u001b[0m \u001b[0mT\u001b[0m\u001b[0;34m:\u001b[0m\u001b[0;34m\u001b[0m\u001b[0;34m\u001b[0m\u001b[0m\n\u001b[1;32m     27\u001b[0m         \u001b[0;34m\"\"\"Parse the input bytes array return the resulting object tree.\"\"\"\u001b[0m\u001b[0;34m\u001b[0m\u001b[0;34m\u001b[0m\u001b[0m\n\u001b[0;32m---> 28\u001b[0;31m         \u001b[0;32mreturn\u001b[0m \u001b[0mself\u001b[0m\u001b[0;34m.\u001b[0m\u001b[0mparse\u001b[0m\u001b[0;34m(\u001b[0m\u001b[0mio\u001b[0m\u001b[0;34m.\u001b[0m\u001b[0mBytesIO\u001b[0m\u001b[0;34m(\u001b[0m\u001b[0msource\u001b[0m\u001b[0;34m)\u001b[0m\u001b[0;34m,\u001b[0m \u001b[0mclazz\u001b[0m\u001b[0;34m)\u001b[0m\u001b[0;34m\u001b[0m\u001b[0;34m\u001b[0m\u001b[0m\n\u001b[0m\u001b[1;32m     29\u001b[0m \u001b[0;34m\u001b[0m\u001b[0m\n\u001b[1;32m     30\u001b[0m     \u001b[0;34m@\u001b[0m\u001b[0mabc\u001b[0m\u001b[0;34m.\u001b[0m\u001b[0mabstractmethod\u001b[0m\u001b[0;34m\u001b[0m\u001b[0;34m\u001b[0m\u001b[0m\n",
      "\u001b[0;32m~/dev/mugimugi/.python_env/lib/python3.9/site-packages/xsdata/formats/dataclass/parsers/nodes.py\u001b[0m in \u001b[0;36mparse\u001b[0;34m(self, source, clazz)\u001b[0m\n\u001b[1;32m    349\u001b[0m         \u001b[0;34m\"\"\"Parse the XML input stream and return the resulting object tree.\"\"\"\u001b[0m\u001b[0;34m\u001b[0m\u001b[0;34m\u001b[0m\u001b[0m\n\u001b[1;32m    350\u001b[0m         \u001b[0mhandler\u001b[0m \u001b[0;34m=\u001b[0m \u001b[0mself\u001b[0m\u001b[0;34m.\u001b[0m\u001b[0mhandler\u001b[0m\u001b[0;34m(\u001b[0m\u001b[0mclazz\u001b[0m\u001b[0;34m=\u001b[0m\u001b[0mclazz\u001b[0m\u001b[0;34m,\u001b[0m \u001b[0mparser\u001b[0m\u001b[0;34m=\u001b[0m\u001b[0mself\u001b[0m\u001b[0;34m)\u001b[0m\u001b[0;34m\u001b[0m\u001b[0;34m\u001b[0m\u001b[0m\n\u001b[0;32m--> 351\u001b[0;31m         \u001b[0mresult\u001b[0m \u001b[0;34m=\u001b[0m \u001b[0mhandler\u001b[0m\u001b[0;34m.\u001b[0m\u001b[0mparse\u001b[0m\u001b[0;34m(\u001b[0m\u001b[0msource\u001b[0m\u001b[0;34m)\u001b[0m\u001b[0;34m\u001b[0m\u001b[0;34m\u001b[0m\u001b[0m\n\u001b[0m\u001b[1;32m    352\u001b[0m \u001b[0;34m\u001b[0m\u001b[0m\n\u001b[1;32m    353\u001b[0m         \u001b[0;32mif\u001b[0m \u001b[0mresult\u001b[0m \u001b[0;32mis\u001b[0m \u001b[0;32mnot\u001b[0m \u001b[0;32mNone\u001b[0m\u001b[0;34m:\u001b[0m\u001b[0;34m\u001b[0m\u001b[0;34m\u001b[0m\u001b[0m\n",
      "\u001b[0;32m~/dev/mugimugi/.python_env/lib/python3.9/site-packages/xsdata/formats/dataclass/parsers/handlers/lxml.py\u001b[0m in \u001b[0;36mparse\u001b[0;34m(self, source)\u001b[0m\n\u001b[1;32m     35\u001b[0m             \u001b[0mctx\u001b[0m \u001b[0;34m=\u001b[0m \u001b[0metree\u001b[0m\u001b[0;34m.\u001b[0m\u001b[0miterparse\u001b[0m\u001b[0;34m(\u001b[0m\u001b[0msource\u001b[0m\u001b[0;34m,\u001b[0m \u001b[0mEVENTS\u001b[0m\u001b[0;34m,\u001b[0m \u001b[0mrecover\u001b[0m\u001b[0;34m=\u001b[0m\u001b[0;32mTrue\u001b[0m\u001b[0;34m,\u001b[0m \u001b[0mremove_comments\u001b[0m\u001b[0;34m=\u001b[0m\u001b[0;32mTrue\u001b[0m\u001b[0;34m)\u001b[0m\u001b[0;34m\u001b[0m\u001b[0;34m\u001b[0m\u001b[0m\n\u001b[1;32m     36\u001b[0m \u001b[0;34m\u001b[0m\u001b[0m\n\u001b[0;32m---> 37\u001b[0;31m         \u001b[0;32mreturn\u001b[0m \u001b[0mself\u001b[0m\u001b[0;34m.\u001b[0m\u001b[0mprocess_context\u001b[0m\u001b[0;34m(\u001b[0m\u001b[0mctx\u001b[0m\u001b[0;34m)\u001b[0m\u001b[0;34m\u001b[0m\u001b[0;34m\u001b[0m\u001b[0m\n\u001b[0m\u001b[1;32m     38\u001b[0m \u001b[0;34m\u001b[0m\u001b[0m\n\u001b[1;32m     39\u001b[0m     \u001b[0;32mdef\u001b[0m \u001b[0mprocess_context\u001b[0m\u001b[0;34m(\u001b[0m\u001b[0mself\u001b[0m\u001b[0;34m,\u001b[0m \u001b[0mcontext\u001b[0m\u001b[0;34m:\u001b[0m \u001b[0mIterable\u001b[0m\u001b[0;34m)\u001b[0m \u001b[0;34m->\u001b[0m \u001b[0mAny\u001b[0m\u001b[0;34m:\u001b[0m\u001b[0;34m\u001b[0m\u001b[0;34m\u001b[0m\u001b[0m\n",
      "\u001b[0;32m~/dev/mugimugi/.python_env/lib/python3.9/site-packages/xsdata/formats/dataclass/parsers/handlers/lxml.py\u001b[0m in \u001b[0;36mprocess_context\u001b[0;34m(self, context)\u001b[0m\n\u001b[1;32m     42\u001b[0m         \u001b[0;32mfor\u001b[0m \u001b[0mevent\u001b[0m\u001b[0;34m,\u001b[0m \u001b[0melement\u001b[0m \u001b[0;32min\u001b[0m \u001b[0mcontext\u001b[0m\u001b[0;34m:\u001b[0m\u001b[0;34m\u001b[0m\u001b[0;34m\u001b[0m\u001b[0m\n\u001b[1;32m     43\u001b[0m             \u001b[0;32mif\u001b[0m \u001b[0mevent\u001b[0m \u001b[0;34m==\u001b[0m \u001b[0mEventType\u001b[0m\u001b[0;34m.\u001b[0m\u001b[0mSTART\u001b[0m\u001b[0;34m:\u001b[0m\u001b[0;34m\u001b[0m\u001b[0;34m\u001b[0m\u001b[0m\n\u001b[0;32m---> 44\u001b[0;31m                 self.parser.start(\n\u001b[0m\u001b[1;32m     45\u001b[0m                     \u001b[0mself\u001b[0m\u001b[0;34m.\u001b[0m\u001b[0mqueue\u001b[0m\u001b[0;34m,\u001b[0m\u001b[0;34m\u001b[0m\u001b[0;34m\u001b[0m\u001b[0m\n\u001b[1;32m     46\u001b[0m                     \u001b[0melement\u001b[0m\u001b[0;34m.\u001b[0m\u001b[0mtag\u001b[0m\u001b[0;34m,\u001b[0m\u001b[0;34m\u001b[0m\u001b[0;34m\u001b[0m\u001b[0m\n",
      "\u001b[0;32m~/dev/mugimugi/.python_env/lib/python3.9/site-packages/xsdata/formats/dataclass/parsers/xml.py\u001b[0m in \u001b[0;36mstart\u001b[0;34m(self, queue, qname, attrs, ns_map, objects, clazz)\u001b[0m\n\u001b[1;32m     45\u001b[0m         \u001b[0mattributes\u001b[0m\u001b[0;34m.\u001b[0m\u001b[0;34m\u001b[0m\u001b[0;34m\u001b[0m\u001b[0m\n\u001b[1;32m     46\u001b[0m         \"\"\"\n\u001b[0;32m---> 47\u001b[0;31m         \u001b[0msuper\u001b[0m\u001b[0;34m(\u001b[0m\u001b[0;34m)\u001b[0m\u001b[0;34m.\u001b[0m\u001b[0mstart\u001b[0m\u001b[0;34m(\u001b[0m\u001b[0mqueue\u001b[0m\u001b[0;34m,\u001b[0m \u001b[0mqname\u001b[0m\u001b[0;34m,\u001b[0m \u001b[0mattrs\u001b[0m\u001b[0;34m,\u001b[0m \u001b[0mns_map\u001b[0m\u001b[0;34m,\u001b[0m \u001b[0mobjects\u001b[0m\u001b[0;34m,\u001b[0m \u001b[0mclazz\u001b[0m\u001b[0;34m)\u001b[0m\u001b[0;34m\u001b[0m\u001b[0;34m\u001b[0m\u001b[0m\n\u001b[0m\u001b[1;32m     48\u001b[0m         \u001b[0mself\u001b[0m\u001b[0;34m.\u001b[0m\u001b[0memit_event\u001b[0m\u001b[0;34m(\u001b[0m\u001b[0mEventType\u001b[0m\u001b[0;34m.\u001b[0m\u001b[0mSTART\u001b[0m\u001b[0;34m,\u001b[0m \u001b[0mqname\u001b[0m\u001b[0;34m,\u001b[0m \u001b[0mattrs\u001b[0m\u001b[0;34m=\u001b[0m\u001b[0mattrs\u001b[0m\u001b[0;34m)\u001b[0m\u001b[0;34m\u001b[0m\u001b[0;34m\u001b[0m\u001b[0m\n\u001b[1;32m     49\u001b[0m \u001b[0;34m\u001b[0m\u001b[0m\n",
      "\u001b[0;32m~/dev/mugimugi/.python_env/lib/python3.9/site-packages/xsdata/formats/dataclass/parsers/nodes.py\u001b[0m in \u001b[0;36mstart\u001b[0;34m(self, queue, qname, attrs, ns_map, objects, clazz)\u001b[0m\n\u001b[1;32m    368\u001b[0m         \u001b[0;32mtry\u001b[0m\u001b[0;34m:\u001b[0m\u001b[0;34m\u001b[0m\u001b[0;34m\u001b[0m\u001b[0m\n\u001b[1;32m    369\u001b[0m             \u001b[0mitem\u001b[0m \u001b[0;34m=\u001b[0m \u001b[0mqueue\u001b[0m\u001b[0;34m[\u001b[0m\u001b[0;34m-\u001b[0m\u001b[0;36m1\u001b[0m\u001b[0;34m]\u001b[0m\u001b[0;34m\u001b[0m\u001b[0;34m\u001b[0m\u001b[0m\n\u001b[0;32m--> 370\u001b[0;31m             \u001b[0mchild\u001b[0m \u001b[0;34m=\u001b[0m \u001b[0mitem\u001b[0m\u001b[0;34m.\u001b[0m\u001b[0mchild\u001b[0m\u001b[0;34m(\u001b[0m\u001b[0mqname\u001b[0m\u001b[0;34m,\u001b[0m \u001b[0mattrs\u001b[0m\u001b[0;34m,\u001b[0m \u001b[0mns_map\u001b[0m\u001b[0;34m,\u001b[0m \u001b[0mlen\u001b[0m\u001b[0;34m(\u001b[0m\u001b[0mobjects\u001b[0m\u001b[0;34m)\u001b[0m\u001b[0;34m)\u001b[0m\u001b[0;34m\u001b[0m\u001b[0;34m\u001b[0m\u001b[0m\n\u001b[0m\u001b[1;32m    371\u001b[0m         \u001b[0;32mexcept\u001b[0m \u001b[0mIndexError\u001b[0m\u001b[0;34m:\u001b[0m\u001b[0;34m\u001b[0m\u001b[0;34m\u001b[0m\u001b[0m\n\u001b[1;32m    372\u001b[0m             \u001b[0mxsi_type\u001b[0m \u001b[0;34m=\u001b[0m \u001b[0mParserUtils\u001b[0m\u001b[0;34m.\u001b[0m\u001b[0mparse_xsi_type\u001b[0m\u001b[0;34m(\u001b[0m\u001b[0mattrs\u001b[0m\u001b[0;34m,\u001b[0m \u001b[0mns_map\u001b[0m\u001b[0;34m)\u001b[0m\u001b[0;34m\u001b[0m\u001b[0;34m\u001b[0m\u001b[0m\n",
      "\u001b[0;32m~/dev/mugimugi/.python_env/lib/python3.9/site-packages/xsdata/formats/dataclass/parsers/nodes.py\u001b[0m in \u001b[0;36mchild\u001b[0;34m(self, qname, attrs, ns_map, position)\u001b[0m\n\u001b[1;32m    313\u001b[0m \u001b[0;34m\u001b[0m\u001b[0m\n\u001b[1;32m    314\u001b[0m     \u001b[0;32mdef\u001b[0m \u001b[0mchild\u001b[0m\u001b[0;34m(\u001b[0m\u001b[0mself\u001b[0m\u001b[0;34m,\u001b[0m \u001b[0mqname\u001b[0m\u001b[0;34m:\u001b[0m \u001b[0mstr\u001b[0m\u001b[0;34m,\u001b[0m \u001b[0mattrs\u001b[0m\u001b[0;34m:\u001b[0m \u001b[0mDict\u001b[0m\u001b[0;34m,\u001b[0m \u001b[0mns_map\u001b[0m\u001b[0;34m:\u001b[0m \u001b[0mDict\u001b[0m\u001b[0;34m,\u001b[0m \u001b[0mposition\u001b[0m\u001b[0;34m:\u001b[0m \u001b[0mint\u001b[0m\u001b[0;34m)\u001b[0m \u001b[0;34m->\u001b[0m \u001b[0mXmlNode\u001b[0m\u001b[0;34m:\u001b[0m\u001b[0;34m\u001b[0m\u001b[0;34m\u001b[0m\u001b[0m\n\u001b[0;32m--> 315\u001b[0;31m         \u001b[0;32mraise\u001b[0m \u001b[0mXmlContextError\u001b[0m\u001b[0;34m(\u001b[0m\u001b[0;34m\"Primitive node doesn't support child nodes!\"\u001b[0m\u001b[0;34m)\u001b[0m\u001b[0;34m\u001b[0m\u001b[0;34m\u001b[0m\u001b[0m\n\u001b[0m\u001b[1;32m    316\u001b[0m \u001b[0;34m\u001b[0m\u001b[0m\n\u001b[1;32m    317\u001b[0m \u001b[0;34m\u001b[0m\u001b[0m\n",
      "\u001b[0;31mXmlContextError\u001b[0m: Primitive node doesn't support child nodes!"
     ]
    }
   ],
   "source": [
    "async for e in client.author.search(\"不詳\"):\n",
    "    print(e)\n",
    "    print(len(e.items))"
   ]
  },
  {
   "cell_type": "code",
   "execution_count": 4,
   "metadata": {},
   "outputs": [
    {
     "output_type": "stream",
     "name": "stdout",
     "text": [
      "Item(name_en='(unknown)', name_jp='不詳', name_r='', objects=52413, name_alt=[], id='A1', ver=6, frq=None, type='author')\nItem(name_en='(and more)', name_jp='他', name_r='', objects=14083, name_alt=[], id='A16954', ver=6, frq=None, type='author')\nItem(name_en='Tezuka Osamu', name_jp='手塚治虫', name_r='テヅカオサム', objects=1535, name_alt=[], id='A29589', ver=2, frq=None, type='author')\nItem(name_en='Koike Kazuo', name_jp='小池一夫', name_r='', objects=1252, name_alt=[], id='A29859', ver=2, frq=None, type='author')\nItem(name_en='Saitou Takawo', name_jp='さいとう・たかを', name_r='サイトウタカヲ', objects=1094, name_alt=[], id='A29878', ver=3, frq=None, type='author')\nItem(name_en='Yokoyama Mitsuteru', name_jp='横山光輝', name_r='', objects=985, name_alt=[], id='A29617', ver=2, frq=None, type='author')\nItem(name_en='Ishinomori Shoutarou', name_jp='石ノ森章太郎', name_r='', objects=839, name_alt=[], id='A29679', ver=1, frq=None, type='author')\nItem(name_en='Nagai Go', name_jp='永井豪', name_r='', objects=798, name_alt=[], id='A29649', ver=2, frq=None, type='author')\nItem(name_en='【need specified】 various artists', name_jp='V.A.', name_r='', objects=734, name_alt=[], id='A52774', ver=5, frq=None, type='author')\nItem(name_en='LINDA', name_jp='LINDA', name_r='', objects=698, name_alt=[], id='A1765', ver=11, frq=None, type='author')\n"
     ]
    }
   ],
   "source": [
    "from mugimugi.action import SearchItem\n",
    "from mugimugi.enum import SortOrder\n",
    "\n",
    "async for e in client.author.search(sort_criterion=SearchItem.SortCriterion.OBJECTS, sort_order=SortOrder.DESCENDING, limit=10):\n",
    "    print(e)"
   ]
  },
  {
   "cell_type": "code",
   "execution_count": 4,
   "metadata": {},
   "outputs": [
    {
     "output_type": "stream",
     "name": "stdout",
     "text": [
      "<LIST>\n",
      "  <ITEM ID=\"H1\" VER=\"3\" TYPE=\"character\">\n",
      "    <NAME_EN>(unknown)</NAME_EN>\n",
      "    <NAME_JP>不詳</NAME_JP>\n",
      "    <NAME_R></NAME_R>\n",
      "    <OBJECTS>560</OBJECTS>\n",
      "    <DATA_SEX>0</DATA_SEX>\n",
      "    <DATA_AGE></DATA_AGE>\n",
      "    <LINKS/>\n",
      "  </ITEM>\n",
      "  <USER id=\"47951\">\n",
      "    <User>ojisan</User>\n",
      "    <Queries>870</Queries>\n",
      "    <Image_Queries>1100</Image_Queries>\n",
      "  </USER>\n",
      "</LIST>\n",
      "\n",
      "Item(name_en='(unknown)', name_jp='不詳', name_r='', objects=560, name_alt=[], data_sex=0, ver=3, frq=None, date_age=None, id='H1', type='character')\n",
      "<LIST>\n",
      "  <USER id=\"47951\">\n",
      "    <User>ojisan</User>\n",
      "    <Queries>869</Queries>\n",
      "    <Image_Queries>1100</Image_Queries>\n",
      "  </USER>\n",
      "</LIST>\n",
      "\n"
     ]
    }
   ],
   "source": [
    "async for e in client.character.search(\"不詳\"):\n",
    "    print(e)"
   ]
  },
  {
   "cell_type": "code",
   "execution_count": 5,
   "metadata": {},
   "outputs": [
    {
     "output_type": "stream",
     "name": "stdout",
     "text": [
      "Item(name_en='(unknown)', name_jp='不詳', name_r='', objects=1871, name_alt=[], id='C1', ver=8, frq=None, type='circle')\n"
     ]
    }
   ],
   "source": [
    "async for e in client.circle.search(\"不詳\"):\n",
    "    print(e)"
   ]
  },
  {
   "cell_type": "code",
   "execution_count": 6,
   "metadata": {},
   "outputs": [
    {
     "output_type": "stream",
     "name": "stdout",
     "text": [
      "Item(name_en='UNKNOWN', name_jp='不詳', name_r='', objects=37, id='O1', type='collections', ver=2, frq=None)\n"
     ]
    }
   ],
   "source": [
    "async for e in client.collection.search(\"不詳\"):\n",
    "    print(e)"
   ]
  },
  {
   "cell_type": "code",
   "execution_count": 7,
   "metadata": {},
   "outputs": [
    {
     "output_type": "stream",
     "name": "stdout",
     "text": [
      "Item(name_en='Unknown', name_jp='不詳', name_r='', objects=1570044, name_alt=[], id='K1', ver=1, frq=None, type='contents', parent=None)\n"
     ]
    }
   ],
   "source": [
    "async for e in client.content.search(\"不詳\"):\n",
    "    print(e)"
   ]
  },
  {
   "cell_type": "code",
   "execution_count": 8,
   "metadata": {},
   "outputs": [
    {
     "output_type": "stream",
     "name": "stdout",
     "text": [
      "Item(name_en='Unknown', name_jp='不詳', name_r='', objects=688382, name_alt=[], date_start='0000-00-00', ver=2, frq=None, date_end='0000-00-00', id='N1', type='convention')\n"
     ]
    }
   ],
   "source": [
    "async for e in client.convention.search(\"不詳\"):\n",
    "    print(e)"
   ]
  },
  {
   "cell_type": "code",
   "execution_count": 3,
   "metadata": {},
   "outputs": [
    {
     "output_type": "stream",
     "name": "stdout",
     "text": [
      "Item(name_en='Comic Market 97', name_jp='コミックマーケット97', name_r='', objects=10594, name_alt=['C97'], date_start='2019-12-28', ver=1, frq=None, date_end='2019-12-31', id='N4790', type='convention')\n"
     ]
    }
   ],
   "source": [
    "from datetime import date\n",
    "async for e in client.convention.search(date_=date(2019, 12, 30)):\n",
    "    print(e)"
   ]
  },
  {
   "cell_type": "code",
   "execution_count": 9,
   "metadata": {},
   "outputs": [
    {
     "output_type": "stream",
     "name": "stdout",
     "text": [
      "Item(name_en='Unknown', name_jp='不詳', name_r='', objects=172, id='G1', type='genre', ver=2, frq=None)\n"
     ]
    }
   ],
   "source": [
    "async for e in client.genre.search(\"不詳\"):\n",
    "    print(e)"
   ]
  },
  {
   "cell_type": "code",
   "execution_count": 10,
   "metadata": {},
   "outputs": [
    {
     "output_type": "stream",
     "name": "stdout",
     "text": [
      "Item(name_en='Unknown', name_jp='不詳', name_r='', objects=15042, id='I1', type='imprint', ver=1, frq=None)\n"
     ]
    }
   ],
   "source": [
    "async for e in client.imprint.search(\"不詳\"):\n",
    "    print(e)"
   ]
  },
  {
   "cell_type": "code",
   "execution_count": 11,
   "metadata": {},
   "outputs": [
    {
     "output_type": "stream",
     "name": "stdout",
     "text": [
      "Item(name_en='(unknown)', name_jp='不詳', name_r='', objects=107893, name_alt=[], parent=None, ver=4, frq=None, id='P1', type='parody')\n"
     ]
    }
   ],
   "source": [
    "async for e in client.parody.search(\"不詳\"):\n",
    "    print(e)"
   ]
  },
  {
   "cell_type": "code",
   "execution_count": 12,
   "metadata": {},
   "outputs": [
    {
     "output_type": "stream",
     "name": "stdout",
     "text": [
      "Item(name_en='Unknown', name_jp='不詳', name_r='', objects=70605, id='L1', type='publisher', ver=1, frq=None)\n"
     ]
    }
   ],
   "source": [
    "async for e in client.publisher.search(\"不詳\"):\n",
    "    print(e)"
   ]
  }
 ]
}