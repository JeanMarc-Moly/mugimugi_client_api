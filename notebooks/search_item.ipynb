{
 "metadata": {
  "language_info": {
   "codemirror_mode": {
    "name": "ipython",
    "version": 3
   },
   "file_extension": ".py",
   "mimetype": "text/x-python",
   "name": "python",
   "nbconvert_exporter": "python",
   "pygments_lexer": "ipython3",
   "version": "3.9.0-final"
  },
  "orig_nbformat": 2,
  "kernelspec": {
   "name": "python38664bitpythonenvcondac3d489905bf8462fa14a00176046c2f1",
   "display_name": "Python 3.8.6 64-bit ('.python_env': conda)",
   "language": "python"
  }
 },
 "nbformat": 4,
 "nbformat_minor": 2,
 "cells": [
  {
   "cell_type": "code",
   "execution_count": 1,
   "metadata": {},
   "outputs": [
    {
     "output_type": "stream",
     "name": "stdout",
     "text": [
      "/home/oji/dev/mugimugi\n"
     ]
    }
   ],
   "source": [
    "cd .."
   ]
  },
  {
   "cell_type": "code",
   "execution_count": 2,
   "metadata": {},
   "outputs": [],
   "source": [
    "from query import client"
   ]
  },
  {
   "cell_type": "code",
   "execution_count": 3,
   "metadata": {},
   "outputs": [
    {
     "output_type": "stream",
     "name": "stdout",
     "text": [
      "Author(english_name='(unknown)', japanese_name='不詳', romaji_name='', other_names=[], id='A1', version=6, type=<ItemType.AUTHOR: 'author'>, objects_count=53366, parent=0, _links=Linker(items=[]))\nAuthor(english_name='【needs specifying】 usagi', japanese_name='うさぎ', romaji_name='', other_names=['不詳 / unidentified'], id='A240391', version=1, type=<ItemType.AUTHOR: 'author'>, objects_count=1, parent=0, _links=Linker(items=[]))\nAuthor(english_name='Kouya Sumeragi', japanese_name='[不詳]Kouya Sumeragi', romaji_name='', other_names=[], id='A35356', version=2, type=<ItemType.AUTHOR: 'author'>, objects_count=1, parent=0, _links=Linker(items=[]))\nAuthor(english_name='Matori You', japanese_name='(表記不詳)Matori You', romaji_name='', other_names=[], id='A2017', version=2, type=<ItemType.AUTHOR: 'author'>, objects_count=1, parent=0, _links=Linker(items=[]))\nAuthor(english_name='Minagi.N.', japanese_name='[不詳]', romaji_name='', other_names=[], id='A4951', version=2, type=<ItemType.AUTHOR: 'author'>, objects_count=1, parent=0, _links=Linker(items=[]))\nAuthor(english_name='Renjyo Kamisaki', japanese_name='[不詳]Renjyo Kamisaki', romaji_name='', other_names=[], id='A35517', version=2, type=<ItemType.AUTHOR: 'author'>, objects_count=1, parent=0, _links=Linker(items=[]))\nAuthor(english_name='Ruru Sanjoe', japanese_name='[不詳]Ruru Sanjoe', romaji_name='', other_names=[], id='A5591', version=3, type=<ItemType.AUTHOR: 'author'>, objects_count=1, parent=0, _links=Linker(items=[]))\nAuthor(english_name='Sakusha Fushou', japanese_name='作者不詳', romaji_name='サクシャフショウ', other_names=[], id='A22360', version=2, type=<ItemType.AUTHOR: 'author'>, objects_count=2, parent=0, _links=Linker(items=[]))\nAuthor(english_name='Yu-tsu', japanese_name='(表記不詳)Yu-tsu', romaji_name='', other_names=[], id='A1056', version=12, type=<ItemType.AUTHOR: 'author'>, objects_count=2, parent=0, _links=Linker(items=[LinkedContent(english_name='Loli', japanese_name='ロリ', romaji_name='', other_names=['lolicon', 'lolikon', 'rorikon', 'ロリコン'], id='K15', version=3, type=<ItemType.CONTENT: 'contents'>, objects_count=74791)]))\nAuthor(english_name='Yumeno Miyako', japanese_name='[不詳]Yumeno Miyako', romaji_name='', other_names=[], id='A19523', version=2, type=<ItemType.AUTHOR: 'author'>, objects_count=1, parent=0, _links=Linker(items=[]))\n"
     ]
    }
   ],
   "source": [
    "async for e in client.author.search(\"不詳\"):\n",
    "    print(e)"
   ]
  },
  {
   "cell_type": "code",
   "execution_count": 4,
   "metadata": {},
   "outputs": [
    {
     "output_type": "stream",
     "name": "stdout",
     "text": [
      "Author(english_name='(unknown)', japanese_name='不詳', romaji_name='', other_names=[], id='A1', version=6, type=<ItemType.AUTHOR: 'author'>, objects_count=53366, parent=0, _links=Linker(items=[]))\nAuthor(english_name='(and more)', japanese_name='他', romaji_name='', other_names=[], id='A16954', version=6, type=<ItemType.AUTHOR: 'author'>, objects_count=14154, parent=1, _links=Linker(items=[]))\nAuthor(english_name='Tezuka Osamu', japanese_name='手塚治虫', romaji_name='テヅカオサム', other_names=[], id='A29589', version=2, type=<ItemType.AUTHOR: 'author'>, objects_count=1535, parent=0, _links=Linker(items=[]))\nAuthor(english_name='Koike Kazuo', japanese_name='小池一夫', romaji_name='', other_names=[], id='A29859', version=2, type=<ItemType.AUTHOR: 'author'>, objects_count=1252, parent=0, _links=Linker(items=[]))\nAuthor(english_name='Saitou Takawo', japanese_name='さいとう・たかを', romaji_name='サイトウタカヲ', other_names=[], id='A29878', version=3, type=<ItemType.AUTHOR: 'author'>, objects_count=1094, parent=0, _links=Linker(items=[]))\nAuthor(english_name='Yokoyama Mitsuteru', japanese_name='横山光輝', romaji_name='', other_names=[], id='A29617', version=2, type=<ItemType.AUTHOR: 'author'>, objects_count=985, parent=0, _links=Linker(items=[]))\nAuthor(english_name='Ishinomori Shoutarou', japanese_name='石ノ森章太郎', romaji_name='', other_names=[], id='A29679', version=1, type=<ItemType.AUTHOR: 'author'>, objects_count=839, parent=0, _links=Linker(items=[]))\nAuthor(english_name='Nagai Go', japanese_name='永井豪', romaji_name='', other_names=[], id='A29649', version=2, type=<ItemType.AUTHOR: 'author'>, objects_count=798, parent=0, _links=Linker(items=[]))\nAuthor(english_name='【need specified】 various artists', japanese_name='V.A.', romaji_name='', other_names=[], id='A52774', version=5, type=<ItemType.AUTHOR: 'author'>, objects_count=741, parent=1, _links=Linker(items=[]))\nAuthor(english_name='LINDA', japanese_name='LINDA', romaji_name='', other_names=[], id='A1765', version=11, type=<ItemType.AUTHOR: 'author'>, objects_count=698, parent=0, _links=Linker(items=[]))\n"
     ]
    }
   ],
   "source": [
    "from mugimugi.action import SearchItem\n",
    "from mugimugi.enum import SortOrder\n",
    "\n",
    "async for e in client.author.search(sort_criterion=SearchItem.SortCriterion.OBJECTS, sort_order=SortOrder.DESCENDING, limit=10):\n",
    "    print(e)"
   ]
  },
  {
   "cell_type": "code",
   "execution_count": 5,
   "metadata": {},
   "outputs": [
    {
     "output_type": "stream",
     "name": "stdout",
     "text": [
      "Character(english_name='(unknown)', japanese_name='不詳', romaji_name='', other_names=[], id='H1', version=3, type=<ItemType.CHARACTER: 'character'>, objects_count=588, sex=<Sex.UNKNOWN: 0>, age='', _links=Linker(items=[]))\n"
     ]
    }
   ],
   "source": [
    "async for e in client.character.search(\"不詳\"):\n",
    "    print(e)"
   ]
  },
  {
   "cell_type": "code",
   "execution_count": 6,
   "metadata": {},
   "outputs": [
    {
     "output_type": "stream",
     "name": "stdout",
     "text": [
      "Circle(english_name='(unknown)', japanese_name='不詳', romaji_name='', other_names=[], id='C1', version=8, type=<ItemType.CIRCLE: 'circle'>, objects_count=1869, parent=0, _links=Linker(items=[]))\n"
     ]
    }
   ],
   "source": [
    "async for e in client.circle.search(\"不詳\"):\n",
    "    print(e)"
   ]
  },
  {
   "cell_type": "code",
   "execution_count": 7,
   "metadata": {},
   "outputs": [
    {
     "output_type": "stream",
     "name": "stdout",
     "text": [
      "Collection(english_name='UNKNOWN', japanese_name='不詳', romaji_name='', other_names=[], id='O1', version=2, type=<ItemType.COLLECTION: 'collections'>, objects_count=37, _links='')\n"
     ]
    }
   ],
   "source": [
    "async for e in client.collection.search(\"不詳\"):\n",
    "    print(e)"
   ]
  },
  {
   "cell_type": "code",
   "execution_count": 8,
   "metadata": {},
   "outputs": [
    {
     "output_type": "stream",
     "name": "stdout",
     "text": [
      "Content(english_name='Unknown', japanese_name='不詳', romaji_name='', other_names=[], id='K1', version=1, type=<ItemType.CONTENT: 'contents'>, objects_count=1580937, _links='')\n"
     ]
    }
   ],
   "source": [
    "async for e in client.content.search(\"不詳\"):\n",
    "    print(e)"
   ]
  },
  {
   "cell_type": "code",
   "execution_count": 9,
   "metadata": {},
   "outputs": [
    {
     "output_type": "stream",
     "name": "stdout",
     "text": [
      "Convention(english_name='Unknown', japanese_name='不詳', romaji_name='', other_names=[], id='N1', version=2, type=<ItemType.CONVENTION: 'convention'>, objects_count=689790, date_start='', date_end='', _links=Linker(items=[]))\n"
     ]
    }
   ],
   "source": [
    "async for e in client.convention.search(\"不詳\"):\n",
    "    print(e)"
   ]
  },
  {
   "cell_type": "code",
   "execution_count": 10,
   "metadata": {},
   "outputs": [
    {
     "output_type": "stream",
     "name": "stdout",
     "text": [
      "Convention(english_name='Comic Market 97', japanese_name='コミックマーケット97', romaji_name='', other_names=['C97'], id='N4790', version=1, type=<ItemType.CONVENTION: 'convention'>, objects_count=11395, date_start=datetime.date(2019, 12, 28), date_end=datetime.date(2019, 12, 31), _links=Linker(items=[]))\n"
     ]
    }
   ],
   "source": [
    "from datetime import date\n",
    "async for e in client.convention.search(date_=date(2019, 12, 30)):\n",
    "    print(e)"
   ]
  },
  {
   "cell_type": "code",
   "execution_count": 11,
   "metadata": {},
   "outputs": [
    {
     "output_type": "stream",
     "name": "stdout",
     "text": [
      "Genre(english_name='Unknown', japanese_name='不詳', romaji_name='', other_names=[], id='G1', version=2, type=<ItemType.GENRE: 'genre'>, objects_count=172, _links='')\n"
     ]
    }
   ],
   "source": [
    "async for e in client.genre.search(\"不詳\"):\n",
    "    print(e)"
   ]
  },
  {
   "cell_type": "code",
   "execution_count": 12,
   "metadata": {},
   "outputs": [
    {
     "output_type": "stream",
     "name": "stdout",
     "text": [
      "Imprint(english_name='Unknown', japanese_name='不詳', romaji_name='', other_names=[], id='I1', version=1, type=<ItemType.IMPRINT: 'imprint'>, objects_count=15048, _links='')\n"
     ]
    }
   ],
   "source": [
    "async for e in client.imprint.search(\"不詳\"):\n",
    "    print(e)"
   ]
  },
  {
   "cell_type": "code",
   "execution_count": 13,
   "metadata": {},
   "outputs": [
    {
     "output_type": "stream",
     "name": "stdout",
     "text": [
      "Parody(english_name='(unknown)', japanese_name='不詳', romaji_name='', other_names=[], id='P1', version=4, type=<ItemType.PARODY: 'parody'>, objects_count=107422, _links=Linker(items=[]))\n"
     ]
    }
   ],
   "source": [
    "async for e in client.parody.search(\"不詳\"):\n",
    "    print(e)"
   ]
  },
  {
   "cell_type": "code",
   "execution_count": 14,
   "metadata": {},
   "outputs": [
    {
     "output_type": "stream",
     "name": "stdout",
     "text": [
      "Publisher(english_name='Unknown', japanese_name='不詳', romaji_name='', other_names=[], id='L1', version=1, type=<ItemType.PUBLISHER: 'publisher'>, objects_count=70584, _links='')\n"
     ]
    }
   ],
   "source": [
    "async for e in client.publisher.search(\"不詳\"):\n",
    "    print(e)"
   ]
  },
  {
   "cell_type": "code",
   "execution_count": 15,
   "metadata": {},
   "outputs": [
    {
     "output_type": "stream",
     "name": "stdout",
     "text": [
      "Book(english_name='', japanese_name='chindows7の再録集・年齢不詳のマジカルババア', romaji_name='', other_names=[], id='B797928', version=2, match_ratio=None, release_date='2015-04-19', isbn='', pages_count='192', is_adult=False, is_anthology=False, is_copybook=False, magazine=0, language=<Language.JAPANESE: 3>, info='', _links=Linker(items=[LinkedPartialCharacter(english_name='Kuroko Tetsuya', japanese_name='黒子テツヤ', romaji_name='クロコテツヤ', other_names=[], id='H15666', version=5, type=<ItemType.CHARACTER: 'character'>, objects_count=13448, sex=<Sex.MALE: 1>, age='', ratio=<Ratio.NOT_SET: 0>), LinkedPartialCharacter(english_name='Kagami Taiga', japanese_name='火神大我', romaji_name='カガミタイガ', other_names=[], id='H15668', version=14, type=<ItemType.CHARACTER: 'character'>, objects_count=6113, sex=<Sex.MALE: 1>, age='', ratio=<Ratio.NOT_SET: 0>), LinkedPartialConvention(english_name='Unknown', japanese_name='不詳', romaji_name='', other_names=[], id='N1', version=2, type=<ItemType.CONVENTION: 'convention'>, objects_count=689790, date_start='', date_end='', _frq=0), LinkedPartialAuthor(english_name='No Publisher', japanese_name='出版社なし', romaji_name='', other_names=[], id='L3', version=2, type=<ItemType.AUTHOR: 'author'>, objects_count=1507241, parent=None, position=<Position.NOT_SET: 0>), LinkedPartialAuthor(english_name='No Collections', japanese_name='シリーズでない', romaji_name='', other_names=[], id='O2', version=4, type=<ItemType.AUTHOR: 'author'>, objects_count=1726003, parent=None, position=<Position.NOT_SET: 0>), LinkedPartialAuthor(english_name='Doujinshi', japanese_name='同人誌', romaji_name='', other_names=[], id='T1', version=1, type=<ItemType.AUTHOR: 'author'>, objects_count=1341462, parent=None, position=<Position.NOT_SET: 0>), LinkedPartialAuthor(english_name='chindows7', japanese_name='chindows7', romaji_name='', other_names=[], id='C64943', version=3, type=<ItemType.AUTHOR: 'author'>, objects_count=16, parent=0, position=<Position.MAIN: 2>), LinkedPartialAuthor(english_name='', japanese_name='チンドウ', romaji_name='チンドウ', other_names=[], id='A113598', version=2, type=<ItemType.AUTHOR: 'author'>, objects_count=12, parent=0, position=<Position.MAIN: 2>), LinkedPartialAuthor(english_name=\"Kuroko's Basketball\", japanese_name='黒子のバスケ', romaji_name='クロコノバスケ', other_names=[], id='P1819', version=93, type=<ItemType.AUTHOR: 'author'>, objects_count=39891, parent=None, position=<Position.NOT_SET: 0>), LinkedPartialAuthor(english_name='Unknown', japanese_name='不詳', romaji_name='', other_names=[], id='K1', version=1, type=<ItemType.AUTHOR: 'author'>, objects_count=1580937, parent=None, position=<Position.NOT_SET: 0>)]))\nBook(english_name='', japanese_name='タイトル不詳', romaji_name='', other_names=[], id='B672713', version=2, match_ratio=None, release_date='0000-00-00', isbn='', pages_count='6', is_adult=False, is_anthology=False, is_copybook=True, magazine=0, language=<Language.JAPANESE: 3>, info='', _links=Linker(items=[LinkedPartialConvention(english_name='Unknown', japanese_name='不詳', romaji_name='', other_names=[], id='N1', version=2, type=<ItemType.CONVENTION: 'convention'>, objects_count=689790, date_start='', date_end='', _frq=0), LinkedPartialAuthor(english_name='No Publisher', japanese_name='出版社なし', romaji_name='', other_names=[], id='L3', version=2, type=<ItemType.AUTHOR: 'author'>, objects_count=1507241, parent=None, position=<Position.NOT_SET: 0>), LinkedPartialAuthor(english_name='No Collections', japanese_name='シリーズでない', romaji_name='', other_names=[], id='O2', version=4, type=<ItemType.AUTHOR: 'author'>, objects_count=1726003, parent=None, position=<Position.NOT_SET: 0>), LinkedPartialAuthor(english_name='No Imprint', japanese_name='レーベルなし', romaji_name='', other_names=[], id='I2', version=2, type=<ItemType.AUTHOR: 'author'>, objects_count=863208, parent=None, position=<Position.NOT_SET: 0>), LinkedPartialAuthor(english_name='Doujinshi', japanese_name='同人誌', romaji_name='', other_names=[], id='T1', version=1, type=<ItemType.AUTHOR: 'author'>, objects_count=1341462, parent=None, position=<Position.NOT_SET: 0>), LinkedPartialAuthor(english_name='Furry[0](General)', japanese_name='[0]ケモノ(全般)', romaji_name='ケモノゼンパン', other_names=['kemono'], id='K13', version=13, type=<ItemType.AUTHOR: 'author'>, objects_count=16117, parent=None, position=<Position.NOT_SET: 0>), LinkedPartialCharacter(english_name='Original', japanese_name='オリジナル', romaji_name='', other_names=['創作'], id='P11', version=4, type=<ItemType.CHARACTER: 'character'>, objects_count=373207, sex=None, age=None, ratio=<Ratio.ALL: 5>), LinkedPartialAuthor(english_name='horipooh', japanese_name='ほりプー', romaji_name='ホリプー', other_names=['Horipu'], id='A73394', version=20, type=<ItemType.AUTHOR: 'author'>, objects_count=45, parent=0, position=<Position.MAIN: 2>), LinkedPartialAuthor(english_name='', japanese_name='いぬいま', romaji_name='イヌイマ', other_names=[], id='C42666', version=17, type=<ItemType.AUTHOR: 'author'>, objects_count=11, parent=0, position=<Position.MAIN: 2>)]))\nBook(english_name='', japanese_name='タイトル不詳', romaji_name='', other_names=[], id='B872088', version=1, match_ratio=None, release_date='2015-12-31', isbn='', pages_count='0', is_adult=False, is_anthology=False, is_copybook=True, magazine=0, language=<Language.JAPANESE: 3>, info='', _links=Linker(items=[LinkedPartialConvention(english_name='Comic Market 89', japanese_name='コミックマーケット 89', romaji_name='コミックマーケット89', other_names=['コミックマーケット89'], id='N2386', version=1, type=<ItemType.CONVENTION: 'convention'>, objects_count=16267, date_start=datetime.date(2015, 12, 29), date_end=datetime.date(2015, 12, 31), _frq=0), LinkedPartialAuthor(english_name='No Publisher', japanese_name='出版社なし', romaji_name='', other_names=[], id='L3', version=2, type=<ItemType.AUTHOR: 'author'>, objects_count=1507241, parent=None, position=<Position.NOT_SET: 0>), LinkedPartialAuthor(english_name='No Collections', japanese_name='シリーズでない', romaji_name='', other_names=[], id='O2', version=4, type=<ItemType.AUTHOR: 'author'>, objects_count=1726003, parent=None, position=<Position.NOT_SET: 0>), LinkedPartialAuthor(english_name='No Imprint', japanese_name='レーベルなし', romaji_name='', other_names=[], id='I2', version=2, type=<ItemType.AUTHOR: 'author'>, objects_count=863208, parent=None, position=<Position.NOT_SET: 0>), LinkedPartialAuthor(english_name='Doujinshi', japanese_name='同人誌', romaji_name='', other_names=[], id='T1', version=1, type=<ItemType.AUTHOR: 'author'>, objects_count=1341462, parent=None, position=<Position.NOT_SET: 0>), LinkedPartialAuthor(english_name='Furry[0](General)', japanese_name='[0]ケモノ(全般)', romaji_name='ケモノゼンパン', other_names=['kemono'], id='K13', version=13, type=<ItemType.AUTHOR: 'author'>, objects_count=16117, parent=None, position=<Position.NOT_SET: 0>), LinkedPartialAuthor(english_name='Original', japanese_name='オリジナル', romaji_name='', other_names=['創作'], id='P11', version=4, type=<ItemType.AUTHOR: 'author'>, objects_count=373207, parent=None, position=<Position.NOT_SET: 0>), LinkedPartialAuthor(english_name='(unknown)', japanese_name='不詳', romaji_name='', other_names=[], id='A1', version=6, type=<ItemType.AUTHOR: 'author'>, objects_count=53366, parent=0, position=<Position.MAIN: 2>), LinkedPartialAuthor(english_name='', japanese_name='オーブタ子猫ね', romaji_name='', other_names=[], id='C49529', version=25, type=<ItemType.AUTHOR: 'author'>, objects_count=20, parent=0, position=<Position.MAIN: 2>)]))\nBook(english_name='', japanese_name='年齢不詳上司 (レオナルド受)', romaji_name='', other_names=[], id='B1465947', version=1, match_ratio=None, release_date='2015-08-23', isbn='', pages_count='62', is_adult=False, is_anthology=False, is_copybook=False, magazine=0, language=<Language.JAPANESE: 3>, info='', _links=Linker(items=[LinkedPartialConvention(english_name='Unknown', japanese_name='不詳', romaji_name='', other_names=[], id='N1', version=2, type=<ItemType.CONVENTION: 'convention'>, objects_count=689790, date_start='', date_end='', _frq=0), LinkedPartialAuthor(english_name='No Publisher', japanese_name='出版社なし', romaji_name='', other_names=[], id='L3', version=2, type=<ItemType.AUTHOR: 'author'>, objects_count=1507241, parent=None, position=<Position.NOT_SET: 0>), LinkedPartialAuthor(english_name='No Collections', japanese_name='シリーズでない', romaji_name='', other_names=[], id='O2', version=4, type=<ItemType.AUTHOR: 'author'>, objects_count=1726003, parent=None, position=<Position.NOT_SET: 0>), LinkedPartialAuthor(english_name='Doujin Novel', japanese_name='同人ノベル', romaji_name='', other_names=[], id='T21', version=2, type=<ItemType.AUTHOR: 'author'>, objects_count=119822, parent=None, position=<Position.NOT_SET: 0>), LinkedPartialAuthor(english_name='', japanese_name='漢祭KST', romaji_name='', other_names=[], id='C135297', version=1, type=<ItemType.AUTHOR: 'author'>, objects_count=3, parent=0, position=<Position.MAIN: 2>), LinkedPartialAuthor(english_name='Blood Blockade Battlefront', japanese_name='血界戦線', romaji_name='ケッカイセンセン', other_names=[], id='P3804', version=30, type=<ItemType.AUTHOR: 'author'>, objects_count=7257, parent=None, position=<Position.NOT_SET: 0>), LinkedPartialAuthor(english_name='For women', japanese_name='女性向け', romaji_name='', other_names=[], id='G226', version=1, type=<ItemType.AUTHOR: 'author'>, objects_count=701368, parent=None, position=<Position.NOT_SET: 0>), LinkedPartialAuthor(english_name='(unknown)', japanese_name='不詳', romaji_name='', other_names=[], id='A1', version=6, type=<ItemType.AUTHOR: 'author'>, objects_count=53366, parent=0, position=<Position.NOT_SET: 0>), LinkedPartialAuthor(english_name='No Imprint', japanese_name='レーベルなし', romaji_name='', other_names=[], id='I2', version=2, type=<ItemType.AUTHOR: 'author'>, objects_count=863208, parent=None, position=<Position.NOT_SET: 0>), LinkedPartialAuthor(english_name='Unknown', japanese_name='不詳', romaji_name='', other_names=[], id='K1', version=1, type=<ItemType.AUTHOR: 'author'>, objects_count=1580937, parent=None, position=<Position.NOT_SET: 0>)]))\nBook(english_name='Because/ Omedetou/ Children/ unknown/ Dark Red/ The Agony and the Ecstasy', japanese_name='BECAUSE/ オメデトウ/ CHILDREN/ 不詳/ Dark Red/ The Agony and the Ecstasy', romaji_name='', other_names=[], id='B20770', version=4, match_ratio=None, release_date='0000-00-00', isbn='', pages_count='196', is_adult=True, is_anthology=False, is_copybook=False, magazine=0, language=<Language.JAPANESE: 3>, info=\"This bootleg publication reprints six doujinshi. Due to the often sloppy writing and lack of full re-printing, I was not able to name all authors in the book and, for the fourth book reprinted, I could not read title, circle's name or author's name.\\r\\n\\r\\n(1) BECAUSE by Nankyoku Group (å\\x8d—æ¥µã‚°ãƒ«ãƒ¼ãƒ—)\\r\\n(2) Omedetou (ã‚ªãƒ¡ãƒ‡ãƒˆã‚¦)ã€€by Group Pinkodachi\\r\\n(3) CHILDREN by Shunran (æ˜¥è˜\\xadâ€\\x90ã\\x81—ã‚…ã‚“ã‚‰ã‚“â€\\x90)\\r\\n(4) unknown title by unknown circle and unknown author\\r\\n(5) Dark Red by Gekijou Pierrot (æ¿€æƒ…ãƒ”ã‚¨ãƒ\\xad)\\r\\n(6) The Agony and the Ecstasy by 1999\", _links=Linker(items=[LinkedPartialAuthor(english_name='Shunran', japanese_name='春蘭', romaji_name='シュンラン', other_names=[], id='C14407', version=19, type=<ItemType.AUTHOR: 'author'>, objects_count=26, parent=0, position=<Position.MAIN: 2>), LinkedPartialConvention(english_name='No Convention', japanese_name='No Convention', romaji_name='', other_names=['無'], id='N2', version=3, type=<ItemType.CONVENTION: 'convention'>, objects_count=213956, date_start='', date_end='', _frq=0), LinkedPartialAuthor(english_name='No Publisher', japanese_name='出版社なし', romaji_name='', other_names=[], id='L3', version=2, type=<ItemType.AUTHOR: 'author'>, objects_count=1507241, parent=None, position=<Position.NOT_SET: 0>), LinkedPartialAuthor(english_name='No Collections', japanese_name='シリーズでない', romaji_name='', other_names=[], id='O2', version=4, type=<ItemType.AUTHOR: 'author'>, objects_count=1726003, parent=None, position=<Position.NOT_SET: 0>), LinkedPartialAuthor(english_name='Bootleg', japanese_name='海賊版', romaji_name='', other_names=[], id='T19', version=1, type=<ItemType.AUTHOR: 'author'>, objects_count=5, parent=None, position=<Position.NOT_SET: 0>), LinkedPartialAuthor(english_name='Nankyoku Group', japanese_name='南極グループ', romaji_name='', other_names=[], id='C3000', version=1, type=<ItemType.AUTHOR: 'author'>, objects_count=3, parent=0, position=<Position.MAIN: 2>), LinkedPartialAuthor(english_name='Group Pinkodachi', japanese_name='GROUP PINKODACHI', romaji_name='', other_names=[], id='C3001', version=1, type=<ItemType.AUTHOR: 'author'>, objects_count=2, parent=0, position=<Position.MAIN: 2>), LinkedPartialAuthor(english_name='Gekijou Pierrot', japanese_name='激情ピエロ', romaji_name='', other_names=[], id='C3003', version=2, type=<ItemType.AUTHOR: 'author'>, objects_count=6, parent=0, position=<Position.MAIN: 2>), LinkedPartialAuthor(english_name='1999', japanese_name='1999', romaji_name='1999', other_names=[], id='C3004', version=2, type=<ItemType.AUTHOR: 'author'>, objects_count=2, parent=0, position=<Position.MAIN: 2>), LinkedPartialAuthor(english_name='(unknown)', japanese_name='不詳', romaji_name='', other_names=[], id='C1', version=8, type=<ItemType.AUTHOR: 'author'>, objects_count=1869, parent=0, position=<Position.MAIN: 2>), LinkedPartialAuthor(english_name='Nankyouku Tarou', japanese_name='南極太郎', romaji_name='', other_names=[], id='A6876', version=2, type=<ItemType.AUTHOR: 'author'>, objects_count=3, parent=0, position=<Position.MAIN: 2>), LinkedPartialAuthor(english_name='Park Side Ono', japanese_name='パークサイド小野', romaji_name='', other_names=[], id='A6877', version=1, type=<ItemType.AUTHOR: 'author'>, objects_count=3, parent=0, position=<Position.MAIN: 2>), LinkedPartialAuthor(english_name='Yamanobe Kitta', japanese_name='やまのべきった', romaji_name='ヤマノベキッタ', other_names=[], id='A1147', version=7, type=<ItemType.AUTHOR: 'author'>, objects_count=219, parent=0, position=<Position.MAIN: 2>), LinkedPartialAuthor(english_name='(unknown)', japanese_name='不詳', romaji_name='', other_names=[], id='A1', version=6, type=<ItemType.AUTHOR: 'author'>, objects_count=53366, parent=0, position=<Position.MAIN: 2>), LinkedPartialAuthor(english_name='Yopashi Ayasa', japanese_name='よぱしあやさ', romaji_name='ヨパシアヤサ', other_names=[], id='A6878', version=1, type=<ItemType.AUTHOR: 'author'>, objects_count=1, parent=0, position=<Position.MAIN: 2>), LinkedPartialAuthor(english_name='Eimu Yuu', japanese_name='影夢優', romaji_name='', other_names=[], id='A6879', version=24, type=<ItemType.AUTHOR: 'author'>, objects_count=75, parent=1581, position=<Position.MAIN: 2>), LinkedPartialAuthor(english_name='Yuuki Alice', japanese_name='夕姫ありす', romaji_name='', other_names=[], id='A6880', version=1, type=<ItemType.AUTHOR: 'author'>, objects_count=67, parent=0, position=<Position.MAIN: 2>), LinkedPartialAuthor(english_name='Morino Makoto', japanese_name='森野真琴', romaji_name='', other_names=[], id='A6881', version=2, type=<ItemType.AUTHOR: 'author'>, objects_count=1, parent=0, position=<Position.MAIN: 2>), LinkedPartialAuthor(english_name='AKIRA.N', japanese_name='Akira.N', romaji_name='', other_names=[], id='A6882', version=1, type=<ItemType.AUTHOR: 'author'>, objects_count=1, parent=0, position=<Position.MAIN: 2>), LinkedPartialAuthor(english_name='Yamino Yomiko', japanese_name='闇乃黄泉子', romaji_name='ヤミノヨミコ', other_names=[], id='A6883', version=2, type=<ItemType.AUTHOR: 'author'>, objects_count=6, parent=0, position=<Position.MAIN: 2>), LinkedPartialAuthor(english_name='Oscar W Tachibanaana', japanese_name='オスカー・W・タチバナーナ', romaji_name='', other_names=[], id='A6884', version=2, type=<ItemType.AUTHOR: 'author'>, objects_count=1, parent=0, position=<Position.MAIN: 2>), LinkedPartialAuthor(english_name='Takano Kata', japanese_name='TAKANO KATA', romaji_name='', other_names=[], id='A6885', version=1, type=<ItemType.AUTHOR: 'author'>, objects_count=2, parent=0, position=<Position.MAIN: 2>), LinkedPartialCharacter(english_name='Shinseiki Evangelion', japanese_name='新世紀エヴァンゲリオン', romaji_name='シンセイキエヴァンゲリオン', other_names=['Neon Genesis Evangelion', 'NGE'], id='P27', version=29, type=<ItemType.CHARACTER: 'character'>, objects_count=5578, sex=None, age=None, ratio=<Ratio.MOST: 4>), LinkedPartialAuthor(english_name='Cardcaptor Sakura', japanese_name='カードキャプターさくら', romaji_name='', other_names=['CCS', 'CCさくら', 'Cardcaptors', 'Card Captor Sakura'], id='P14', version=19, type=<ItemType.AUTHOR: 'author'>, objects_count=2114, parent=None, position=<Position.GUEST: 1>), LinkedPartialAuthor(english_name='Bishoujo Senshi Sailor Moon', japanese_name='美少女戦士セーラームーン', romaji_name='ビショウジョセンシセーラームーン', other_names=['Sailor Moon', 'セーラームーン'], id='P29', version=48, type=<ItemType.AUTHOR: 'author'>, objects_count=1550, parent=None, position=<Position.GUEST: 1>), LinkedPartialAuthor(english_name='Masturbation', japanese_name='自慰・性器愛撫', romaji_name='', other_names=['オナニー', 'マスターベーション', '強制マスターベーション'], id='K49', version=3, type=<ItemType.AUTHOR: 'author'>, objects_count=17586, parent=None, position=<Position.MAIN: 2>), LinkedPartialAuthor(english_name='Loli', japanese_name='ロリ', romaji_name='', other_names=['lolicon', 'lolikon', 'rorikon', 'ロリコン'], id='K15', version=3, type=<ItemType.AUTHOR: 'author'>, objects_count=74791, parent=None, position=<Position.MAIN: 2>), LinkedPartialAuthor(english_name='Futanari', japanese_name='ふたなり', romaji_name='', other_names=[], id='K8', version=1, type=<ItemType.AUTHOR: 'author'>, objects_count=15869, parent=None, position=<Position.MAIN: 2>), LinkedPartialAuthor(english_name='Domination (Femdom)', japanese_name='女性支配・女王様・ドミナ', romaji_name='', other_names=[], id='K48', version=2, type=<ItemType.AUTHOR: 'author'>, objects_count=7192, parent=None, position=<Position.MAIN: 2>), LinkedPartialAuthor(english_name='Oral Sex', japanese_name='オーラル・セックス', romaji_name='', other_names=['口腔プレイ'], id='K158', version=2, type=<ItemType.AUTHOR: 'author'>, objects_count=36159, parent=None, position=<Position.MAIN: 2>), LinkedPartialAuthor(english_name='Plugsuit', japanese_name='プラグスーツ', romaji_name='', other_names=[], id='K201', version=2, type=<ItemType.AUTHOR: 'author'>, objects_count=190, parent=None, position=<Position.GUEST: 1>), LinkedPartialAuthor(english_name='Strap-on', japanese_name='ペニスバンド', romaji_name='', other_names=[], id='K251', version=1, type=<ItemType.AUTHOR: 'author'>, objects_count=2876, parent=None, position=<Position.NOT_SET: 0>), LinkedPartialAuthor(english_name='Breasts (Large)', japanese_name='巨乳', romaji_name='キョニュウ', other_names=[], id='K9', version=2, type=<ItemType.AUTHOR: 'author'>, objects_count=59841, parent=None, position=<Position.NOT_SET: 0>), LinkedPartialAuthor(english_name='Lesbian, Yuri', japanese_name='女性同性愛, レズ, 百合', romaji_name='', other_names=[\"Girl's Love\"], id='K187', version=4, type=<ItemType.AUTHOR: 'author'>, objects_count=22138, parent=None, position=<Position.NOT_SET: 0>), LinkedPartialAuthor(english_name='School Girl', japanese_name='女子生徒', romaji_name='', other_names=[], id='K601', version=3, type=<ItemType.AUTHOR: 'author'>, objects_count=20266, parent=None, position=<Position.NOT_SET: 0>), LinkedPartialAuthor(english_name='Group Sex', japanese_name='グループセックス', romaji_name='', other_names=['乱交'], id='K66', version=4, type=<ItemType.AUTHOR: 'author'>, objects_count=39833, parent=None, position=<Position.NOT_SET: 0>), LinkedPartialCharacter(english_name='Ikari Shinji', japanese_name='碇シンジ', romaji_name='イカリシンジ', other_names=[], id='H284', version=18, type=<ItemType.CHARACTER: 'character'>, objects_count=2377, sex=<Sex.MALE: 1>, age='', ratio=<Ratio.NOT_SET: 0>), LinkedPartialCharacter(english_name='Ayanami Rei', japanese_name='綾波レイ', romaji_name='アヤナミレイ', other_names=[], id='H310', version=16, type=<ItemType.CHARACTER: 'character'>, objects_count=1096, sex=<Sex.FEMALE: 2>, age='14', ratio=<Ratio.NOT_SET: 0>), LinkedPartialCharacter(english_name='Sohryu Asuka Langley', japanese_name='惣流・アスカ・ラングレー', romaji_name='ソウリュウアスカラングレー', other_names=['式波・アスカ・ラングレー', 'Shikinami Asuka Langley'], id='H161', version=15, type=<ItemType.CHARACTER: 'character'>, objects_count=1525, sex=<Sex.FEMALE: 2>, age='14', ratio=<Ratio.NOT_SET: 0>), LinkedPartialCharacter(english_name='Akagi Ritsuko', japanese_name='赤木リツコ', romaji_name='アカギリツコ', other_names=[], id='H315', version=4, type=<ItemType.CHARACTER: 'character'>, objects_count=264, sex=<Sex.FEMALE: 2>, age='', ratio=<Ratio.NOT_SET: 0>)]))\nBook(english_name='Nenrei Fushou no Kinoe Kishi Danchou', japanese_name='年齢不詳近衛騎士団長', romaji_name='', other_names=[], id='B1679364', version=1, match_ratio=None, release_date='2018-02-11', isbn='', pages_count='16', is_adult=True, is_anthology=False, is_copybook=False, magazine=0, language=<Language.JAPANESE: 3>, info='', _links=Linker(items=[LinkedPartialConvention(english_name='Unknown', japanese_name='不詳', romaji_name='', other_names=[], id='N1', version=2, type=<ItemType.CONVENTION: 'convention'>, objects_count=689790, date_start='', date_end='', _frq=0), LinkedPartialAuthor(english_name='No Collections', japanese_name='シリーズでない', romaji_name='', other_names=[], id='O2', version=4, type=<ItemType.AUTHOR: 'author'>, objects_count=1726003, parent=None, position=<Position.NOT_SET: 0>), LinkedPartialAuthor(english_name='Doujinshi', japanese_name='同人誌', romaji_name='', other_names=[], id='T1', version=1, type=<ItemType.AUTHOR: 'author'>, objects_count=1341462, parent=None, position=<Position.NOT_SET: 0>), LinkedPartialAuthor(english_name='MHP', japanese_name='MHP', romaji_name='', other_names=[], id='C107648', version=2, type=<ItemType.AUTHOR: 'author'>, objects_count=13, parent=0, position=<Position.MAIN: 2>), LinkedPartialAuthor(english_name='HIKARI', japanese_name='HIKARI', romaji_name='', other_names=[], id='A17074', version=5, type=<ItemType.AUTHOR: 'author'>, objects_count=7, parent=0, position=<Position.MAIN: 2>), LinkedPartialAuthor(english_name='Millennium War Aigis', japanese_name='千年戦争アイギス', romaji_name='センネンセンソウアイギス', other_names=[], id='P5081', version=239, type=<ItemType.AUTHOR: 'author'>, objects_count=631, parent=None, position=<Position.NOT_SET: 0>), LinkedPartialAuthor(english_name='For men', japanese_name='男性向け', romaji_name='', other_names=[], id='G227', version=1, type=<ItemType.AUTHOR: 'author'>, objects_count=346492, parent=None, position=<Position.NOT_SET: 0>), LinkedPartialAuthor(english_name='No Imprint', japanese_name='レーベルなし', romaji_name='', other_names=[], id='I2', version=2, type=<ItemType.AUTHOR: 'author'>, objects_count=863208, parent=None, position=<Position.NOT_SET: 0>), LinkedPartialAuthor(english_name='No Publisher', japanese_name='出版社なし', romaji_name='', other_names=[], id='L3', version=2, type=<ItemType.AUTHOR: 'author'>, objects_count=1507241, parent=None, position=<Position.NOT_SET: 0>), LinkedPartialAuthor(english_name='Unknown', japanese_name='不詳', romaji_name='', other_names=[], id='K1', version=1, type=<ItemType.AUTHOR: 'author'>, objects_count=1580937, parent=None, position=<Position.NOT_SET: 0>)]))\n"
     ]
    }
   ],
   "source": [
    "async for e in client.book.search(\"不詳\"):\n",
    "    print(e)"
   ]
  }
 ]
}