{
 "metadata": {
  "language_info": {
   "codemirror_mode": {
    "name": "ipython",
    "version": 3
   },
   "file_extension": ".py",
   "mimetype": "text/x-python",
   "name": "python",
   "nbconvert_exporter": "python",
   "pygments_lexer": "ipython3",
   "version": "3.9.0-final"
  },
  "orig_nbformat": 2,
  "kernelspec": {
   "name": "python38664bitpythonenvcondac3d489905bf8462fa14a00176046c2f1",
   "display_name": "Python 3.8.6 64-bit ('.python_env': conda)"
  }
 },
 "nbformat": 4,
 "nbformat_minor": 2,
 "cells": [
  {
   "cell_type": "code",
   "execution_count": 1,
   "metadata": {},
   "outputs": [
    {
     "output_type": "stream",
     "name": "stdout",
     "text": [
      "/home/oji/dev/mugimugi\n"
     ]
    }
   ],
   "source": [
    "cd .."
   ]
  },
  {
   "cell_type": "code",
   "execution_count": 2,
   "metadata": {},
   "outputs": [],
   "source": [
    "from mugimugi import MugiMugi\n",
    "\n",
    "client = MugiMugi()"
   ]
  },
  {
   "cell_type": "code",
   "execution_count": 3,
   "metadata": {},
   "outputs": [
    {
     "output_type": "stream",
     "name": "stdout",
     "text": [
      "Item(name_en='(unknown)', name_jp='不詳', name_r='', objects=52413, name_alt=[], id='A1', ver=6, frq=None, type='author')\nItem(name_en='【needs specifying】 usagi', name_jp='うさぎ', name_r='', objects=1, name_alt=['不詳 / unidentified'], id='A240391', ver=1, frq=None, type='author')\nItem(name_en='Kouya Sumeragi', name_jp='[不詳]Kouya Sumeragi', name_r='', objects=1, name_alt=[], id='A35356', ver=2, frq=None, type='author')\nItem(name_en='Matori You', name_jp='(表記不詳)Matori You', name_r='', objects=1, name_alt=[], id='A2017', ver=2, frq=None, type='author')\nItem(name_en='Minagi.N.', name_jp='[不詳]', name_r='', objects=1, name_alt=[], id='A4951', ver=2, frq=None, type='author')\nItem(name_en='Renjyo Kamisaki', name_jp='[不詳]Renjyo Kamisaki', name_r='', objects=1, name_alt=[], id='A35517', ver=2, frq=None, type='author')\nItem(name_en='Ruru Sanjoe', name_jp='[不詳]Ruru Sanjoe', name_r='', objects=1, name_alt=[], id='A5591', ver=3, frq=None, type='author')\nItem(name_en='Sakusha Fushou', name_jp='作者不詳', name_r='サクシャフショウ', objects=2, name_alt=[], id='A22360', ver=2, frq=None, type='author')\nItem(name_en='Yu-tsu', name_jp='(表記不詳)Yu-tsu', name_r='', objects=2, name_alt=[], id='A1056', ver=12, frq=None, type='author')\nItem(name_en='Yumeno Miyako', name_jp='[不詳]Yumeno Miyako', name_r='', objects=1, name_alt=[], id='A19523', ver=2, frq=None, type='author')\n"
     ]
    }
   ],
   "source": [
    "async for e in client.author.search(\"不詳\"):\n",
    "    print(e)"
   ]
  },
  {
   "cell_type": "code",
   "execution_count": 4,
   "metadata": {},
   "outputs": [
    {
     "output_type": "stream",
     "name": "stdout",
     "text": [
      "Item(name_en='(unknown)', name_jp='不詳', name_r='', objects=52413, name_alt=[], id='A1', ver=6, frq=None, type='author')\nItem(name_en='(and more)', name_jp='他', name_r='', objects=14083, name_alt=[], id='A16954', ver=6, frq=None, type='author')\nItem(name_en='Tezuka Osamu', name_jp='手塚治虫', name_r='テヅカオサム', objects=1535, name_alt=[], id='A29589', ver=2, frq=None, type='author')\nItem(name_en='Koike Kazuo', name_jp='小池一夫', name_r='', objects=1252, name_alt=[], id='A29859', ver=2, frq=None, type='author')\nItem(name_en='Saitou Takawo', name_jp='さいとう・たかを', name_r='サイトウタカヲ', objects=1094, name_alt=[], id='A29878', ver=3, frq=None, type='author')\nItem(name_en='Yokoyama Mitsuteru', name_jp='横山光輝', name_r='', objects=985, name_alt=[], id='A29617', ver=2, frq=None, type='author')\nItem(name_en='Ishinomori Shoutarou', name_jp='石ノ森章太郎', name_r='', objects=839, name_alt=[], id='A29679', ver=1, frq=None, type='author')\nItem(name_en='Nagai Go', name_jp='永井豪', name_r='', objects=798, name_alt=[], id='A29649', ver=2, frq=None, type='author')\nItem(name_en='【need specified】 various artists', name_jp='V.A.', name_r='', objects=734, name_alt=[], id='A52774', ver=5, frq=None, type='author')\nItem(name_en='LINDA', name_jp='LINDA', name_r='', objects=698, name_alt=[], id='A1765', ver=11, frq=None, type='author')\n"
     ]
    }
   ],
   "source": [
    "from mugimugi.action import SearchItem\n",
    "from mugimugi.enum import SortOrder\n",
    "\n",
    "async for e in client.author.search(sort_criterion=SearchItem.SortCriterion.OBJECTS, sort_order=SortOrder.DESCENDING, limit=10):\n",
    "    print(e)"
   ]
  },
  {
   "cell_type": "code",
   "execution_count": 4,
   "metadata": {},
   "outputs": [
    {
     "output_type": "stream",
     "name": "stdout",
     "text": [
      "Item(name_en='(unknown)', name_jp='不詳', name_r='', objects=560, name_alt=[], data_sex=0, ver=3, frq=None, date_age=None, id='H1', type='character')\n"
     ]
    }
   ],
   "source": [
    "async for e in client.character.search(\"不詳\"):\n",
    "    print(e)"
   ]
  },
  {
   "cell_type": "code",
   "execution_count": 5,
   "metadata": {},
   "outputs": [
    {
     "output_type": "stream",
     "name": "stdout",
     "text": [
      "Item(name_en='(unknown)', name_jp='不詳', name_r='', objects=1871, name_alt=[], id='C1', ver=8, frq=None, type='circle')\n"
     ]
    }
   ],
   "source": [
    "async for e in client.circle.search(\"不詳\"):\n",
    "    print(e)"
   ]
  },
  {
   "cell_type": "code",
   "execution_count": 6,
   "metadata": {},
   "outputs": [
    {
     "output_type": "stream",
     "name": "stdout",
     "text": [
      "Item(name_en='UNKNOWN', name_jp='不詳', name_r='', objects=37, id='O1', type='collections', ver=2, frq=None)\n"
     ]
    }
   ],
   "source": [
    "async for e in client.collection.search(\"不詳\"):\n",
    "    print(e)"
   ]
  },
  {
   "cell_type": "code",
   "execution_count": 7,
   "metadata": {},
   "outputs": [
    {
     "output_type": "stream",
     "name": "stdout",
     "text": [
      "Item(name_en='Unknown', name_jp='不詳', name_r='', objects=1570044, name_alt=[], id='K1', ver=1, frq=None, type='contents', parent=None)\n"
     ]
    }
   ],
   "source": [
    "async for e in client.content.search(\"不詳\"):\n",
    "    print(e)"
   ]
  },
  {
   "cell_type": "code",
   "execution_count": 8,
   "metadata": {},
   "outputs": [
    {
     "output_type": "stream",
     "name": "stdout",
     "text": [
      "Item(name_en='Unknown', name_jp='不詳', name_r='', objects=688382, name_alt=[], date_start='0000-00-00', ver=2, frq=None, date_end='0000-00-00', id='N1', type='convention')\n"
     ]
    }
   ],
   "source": [
    "async for e in client.convention.search(\"不詳\"):\n",
    "    print(e)"
   ]
  },
  {
   "cell_type": "code",
   "execution_count": 3,
   "metadata": {},
   "outputs": [
    {
     "output_type": "stream",
     "name": "stdout",
     "text": [
      "Item(name_en='Comic Market 97', name_jp='コミックマーケット97', name_r='', objects=10594, name_alt=['C97'], date_start='2019-12-28', ver=1, frq=None, date_end='2019-12-31', id='N4790', type='convention')\n"
     ]
    }
   ],
   "source": [
    "from datetime import date\n",
    "async for e in client.convention.search(date_=date(2019, 12, 30)):\n",
    "    print(e)"
   ]
  },
  {
   "cell_type": "code",
   "execution_count": 9,
   "metadata": {},
   "outputs": [
    {
     "output_type": "stream",
     "name": "stdout",
     "text": [
      "Item(name_en='Unknown', name_jp='不詳', name_r='', objects=172, id='G1', type='genre', ver=2, frq=None)\n"
     ]
    }
   ],
   "source": [
    "async for e in client.genre.search(\"不詳\"):\n",
    "    print(e)"
   ]
  },
  {
   "cell_type": "code",
   "execution_count": 10,
   "metadata": {},
   "outputs": [
    {
     "output_type": "stream",
     "name": "stdout",
     "text": [
      "Item(name_en='Unknown', name_jp='不詳', name_r='', objects=15042, id='I1', type='imprint', ver=1, frq=None)\n"
     ]
    }
   ],
   "source": [
    "async for e in client.imprint.search(\"不詳\"):\n",
    "    print(e)"
   ]
  },
  {
   "cell_type": "code",
   "execution_count": 11,
   "metadata": {},
   "outputs": [
    {
     "output_type": "stream",
     "name": "stdout",
     "text": [
      "Item(name_en='(unknown)', name_jp='不詳', name_r='', objects=107893, name_alt=[], parent=None, ver=4, frq=None, id='P1', type='parody')\n"
     ]
    }
   ],
   "source": [
    "async for e in client.parody.search(\"不詳\"):\n",
    "    print(e)"
   ]
  },
  {
   "cell_type": "code",
   "execution_count": 12,
   "metadata": {},
   "outputs": [
    {
     "output_type": "stream",
     "name": "stdout",
     "text": [
      "Item(name_en='Unknown', name_jp='不詳', name_r='', objects=70605, id='L1', type='publisher', ver=1, frq=None)\n"
     ]
    }
   ],
   "source": [
    "async for e in client.publisher.search(\"不詳\"):\n",
    "    print(e)"
   ]
  }
 ]
}