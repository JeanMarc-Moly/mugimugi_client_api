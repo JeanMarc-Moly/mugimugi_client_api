{
 "metadata": {
  "language_info": {
   "codemirror_mode": {
    "name": "ipython",
    "version": 3
   },
   "file_extension": ".py",
   "mimetype": "text/x-python",
   "name": "python",
   "nbconvert_exporter": "python",
   "pygments_lexer": "ipython3",
   "version": "3.9.0-final"
  },
  "orig_nbformat": 2,
  "kernelspec": {
   "name": "python38664bitpythonenvcondac3d489905bf8462fa14a00176046c2f1",
   "display_name": "Python 3.8.6 64-bit ('.python_env': conda)"
  }
 },
 "nbformat": 4,
 "nbformat_minor": 2,
 "cells": [
  {
   "cell_type": "code",
   "execution_count": 1,
   "metadata": {},
   "outputs": [
    {
     "output_type": "stream",
     "name": "stdout",
     "text": [
      "/home/oji/dev/mugimugi\n"
     ]
    }
   ],
   "source": [
    "cd .."
   ]
  },
  {
   "cell_type": "code",
   "execution_count": 2,
   "metadata": {},
   "outputs": [],
   "source": [
    "from mugimugi import MugiMugi\n",
    "\n",
    "client = MugiMugi()"
   ]
  },
  {
   "cell_type": "code",
   "execution_count": 3,
   "metadata": {},
   "outputs": [
    {
     "output_type": "execute_result",
     "data": {
      "text/plain": [
       "Item(name_en='Nakajima Yuka', name_jp='なかじまゆか', name_r='ナカジマユカ', objects=485, name_alt=['かなじまゆか', 'Digital Lover'], id='A924', ver=15, frq=None, type='author')"
      ]
     },
     "metadata": {},
     "execution_count": 3
    }
   ],
   "source": [
    "await client.author.get(924)"
   ]
  },
  {
   "cell_type": "code",
   "execution_count": 4,
   "metadata": {},
   "outputs": [
    {
     "output_type": "execute_result",
     "data": {
      "text/plain": [
       "Item(name_en='(unknown)', name_jp='不詳', name_r='', objects=560, name_alt=[], data_sex=0, ver=3, frq=None, date_age=None, id='H1', type='character')"
      ]
     },
     "metadata": {},
     "execution_count": 4
    }
   ],
   "source": [
    "await client.character.get(1)"
   ]
  },
  {
   "cell_type": "code",
   "execution_count": 5,
   "metadata": {},
   "outputs": [
    {
     "output_type": "execute_result",
     "data": {
      "text/plain": [
       "Item(name_en='(unknown)', name_jp='不詳', name_r='', objects=1871, name_alt=[], id='C1', ver=8, frq=None, type='circle')"
      ]
     },
     "metadata": {},
     "execution_count": 5
    }
   ],
   "source": [
    "await client.circle.get(1)"
   ]
  },
  {
   "cell_type": "code",
   "execution_count": 6,
   "metadata": {},
   "outputs": [
    {
     "output_type": "execute_result",
     "data": {
      "text/plain": [
       "Item(name_en='UNKNOWN', name_jp='不詳', name_r='', objects=37, id='O1', type='collections', ver=2, frq=None)"
      ]
     },
     "metadata": {},
     "execution_count": 6
    }
   ],
   "source": [
    "await client.collection.get(1)"
   ]
  },
  {
   "cell_type": "code",
   "execution_count": 7,
   "metadata": {},
   "outputs": [
    {
     "output_type": "execute_result",
     "data": {
      "text/plain": [
       "Item(name_en='Unknown', name_jp='不詳', name_r='', objects=1570044, name_alt=[], id='K1', ver=1, frq=None, type='contents', parent=None)"
      ]
     },
     "metadata": {},
     "execution_count": 7
    }
   ],
   "source": [
    "await client.content.get(1)"
   ]
  },
  {
   "cell_type": "code",
   "execution_count": 8,
   "metadata": {},
   "outputs": [
    {
     "output_type": "execute_result",
     "data": {
      "text/plain": [
       "Item(name_en='Unknown', name_jp='不詳', name_r='', objects=688382, name_alt=[], date_start='0000-00-00', ver=2, frq=None, date_end='0000-00-00', id='N1', type='convention')"
      ]
     },
     "metadata": {},
     "execution_count": 8
    }
   ],
   "source": [
    "await client.convention.get(1)"
   ]
  },
  {
   "cell_type": "code",
   "execution_count": 9,
   "metadata": {},
   "outputs": [
    {
     "output_type": "execute_result",
     "data": {
      "text/plain": [
       "Item(name_en='Unknown', name_jp='不詳', name_r='', objects=172, id='G1', type='genre', ver=2, frq=None)"
      ]
     },
     "metadata": {},
     "execution_count": 9
    }
   ],
   "source": [
    "await client.genre.get(1)"
   ]
  },
  {
   "cell_type": "code",
   "execution_count": 10,
   "metadata": {},
   "outputs": [
    {
     "output_type": "execute_result",
     "data": {
      "text/plain": [
       "Item(name_en='Unknown', name_jp='不詳', name_r='', objects=15042, id='I1', type='imprint', ver=1, frq=None)"
      ]
     },
     "metadata": {},
     "execution_count": 10
    }
   ],
   "source": [
    "await client.imprint.get(1)"
   ]
  },
  {
   "cell_type": "code",
   "execution_count": 11,
   "metadata": {},
   "outputs": [
    {
     "output_type": "execute_result",
     "data": {
      "text/plain": [
       "Item(name_en='(unknown)', name_jp='不詳', name_r='', objects=107893, name_alt=[], parent=None, ver=4, frq=None, id='P1', type='parody')"
      ]
     },
     "metadata": {},
     "execution_count": 11
    }
   ],
   "source": [
    "await client.parody.get(1)"
   ]
  },
  {
   "cell_type": "code",
   "execution_count": 12,
   "metadata": {},
   "outputs": [
    {
     "output_type": "execute_result",
     "data": {
      "text/plain": [
       "Item(name_en='Unknown', name_jp='不詳', name_r='', objects=70605, id='L1', type='publisher', ver=1, frq=None)"
      ]
     },
     "metadata": {},
     "execution_count": 12
    }
   ],
   "source": [
    "await client.publisher.get(1)"
   ]
  }
 ]
}