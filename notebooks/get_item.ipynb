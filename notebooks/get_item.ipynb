{
 "metadata": {
  "language_info": {
   "codemirror_mode": {
    "name": "ipython",
    "version": 3
   },
   "file_extension": ".py",
   "mimetype": "text/x-python",
   "name": "python",
   "nbconvert_exporter": "python",
   "pygments_lexer": "ipython3",
   "version": "3.9.1-final"
  },
  "orig_nbformat": 2,
  "kernelspec": {
   "name": "python38664bitpythonenvcondac3d489905bf8462fa14a00176046c2f1",
   "display_name": "Python 3.8.6 64-bit ('.python_env': conda)",
   "language": "python"
  }
 },
 "nbformat": 4,
 "nbformat_minor": 2,
 "cells": [
  {
   "cell_type": "code",
   "execution_count": 1,
   "metadata": {},
   "outputs": [
    {
     "output_type": "stream",
     "name": "stdout",
     "text": [
      "/home/oji/dev/mugimugi\n"
     ]
    }
   ],
   "source": [
    "cd .."
   ]
  },
  {
   "cell_type": "code",
   "execution_count": 2,
   "metadata": {},
   "outputs": [],
   "source": [
    "from query import client"
   ]
  },
  {
   "cell_type": "code",
   "execution_count": 3,
   "metadata": {},
   "outputs": [
    {
     "output_type": "execute_result",
     "data": {
      "text/plain": [
       "Author(_id='A924', id=924, prefix=<ElementPrefix.AUTHOR: 'A'>, english_name='Nakajima Yuka', japanese_name='なかじまゆか', romaji_name='ナカジマユカ', other_names=['かなじまゆか', 'Digital Lover'], _type=<Type.TYPE: <ItemType.AUTHOR: 'author'>>, type=<ItemType.AUTHOR: 'author'>, version=15, objects_count=486, parent=0, _links=Author.Linker(items=[SubContent(_id='K121', id=121, prefix=<ElementPrefix.CONTENT: 'K'>, english_name='Stockings', japanese_name='ストッキング', romaji_name='', other_names=[], _type=<Type.TYPE: <ItemType.CONTENT: 'contents'>>, type=<ItemType.CONTENT: 'contents'>, version=1, objects_count=29037), SubContent(_id='K15', id=15, prefix=<ElementPrefix.CONTENT: 'K'>, english_name='Loli', japanese_name='ロリ', romaji_name='', other_names=['lolicon', 'lolikon', 'rorikon', 'ロリコン'], _type=<Type.TYPE: <ItemType.CONTENT: 'contents'>>, type=<ItemType.CONTENT: 'contents'>, version=3, objects_count=74955)]))"
      ]
     },
     "metadata": {},
     "execution_count": 3
    }
   ],
   "source": [
    "await client.author.get(924)"
   ]
  },
  {
   "cell_type": "code",
   "execution_count": 4,
   "metadata": {
    "tags": []
   },
   "outputs": [
    {
     "output_type": "stream",
     "name": "stdout",
     "text": [
      "Character(_id='H5', id=5, prefix=<ElementPrefix.CHARACTER: 'H'>, english_name='Yagami Hayate', japanese_name='八神はやて', romaji_name='ヤガミハヤテ', other_names=[], _type=<Type.TYPE: <ItemType.CHARACTER: 'character'>>, type=<ItemType.CHARACTER: 'character'>, version=19, objects_count=429, sex=<Sex.FEMALE: 2>, age='', _links=Character.Linker(items=[SubContent(_id='K9', id=9, prefix=<ElementPrefix.CONTENT: 'K'>, english_name='Breasts (Large)', japanese_name='巨乳', romaji_name='キョニュウ', other_names=[], _type=<Type.TYPE: <ItemType.CONTENT: 'contents'>>, type=<ItemType.CONTENT: 'contents'>, version=2, objects_count=60126), SubContent(_id='K15', id=15, prefix=<ElementPrefix.CONTENT: 'K'>, english_name='Loli', japanese_name='ロリ', romaji_name='', other_names=['lolicon', 'lolikon', 'rorikon', 'ロリコン'], _type=<Type.TYPE: <ItemType.CONTENT: 'contents'>>, type=<ItemType.CONTENT: 'contents'>, version=3, objects_count=74955)]))\nCharacter(_id='H2', id=2, prefix=<ElementPrefix.CHARACTER: 'H'>, english_name='Vita', japanese_name='ヴィータ', romaji_name='ヴィータ', other_names=[], _type=<Type.TYPE: <ItemType.CHARACTER: 'character'>>, type=<ItemType.CHARACTER: 'character'>, version=41, objects_count=367, sex=<Sex.FEMALE: 2>, age='', _links=Character.Linker(items=[SubContent(_id='K15', id=15, prefix=<ElementPrefix.CONTENT: 'K'>, english_name='Loli', japanese_name='ロリ', romaji_name='', other_names=['lolicon', 'lolikon', 'rorikon', 'ロリコン'], _type=<Type.TYPE: <ItemType.CONTENT: 'contents'>>, type=<ItemType.CONTENT: 'contents'>, version=3, objects_count=74955)]))\nCharacter(_id='H8', id=8, prefix=<ElementPrefix.CHARACTER: 'H'>, english_name='Usa Mimi', japanese_name='宇佐美々', romaji_name='ウサミミ', other_names=[], _type=<Type.TYPE: <ItemType.CHARACTER: 'character'>>, type=<ItemType.CHARACTER: 'character'>, version=3, objects_count=35, sex=<Sex.FEMALE: 2>, age='', _links=Character.Linker(items=[]))\nCharacter(_id='H1', id=1, prefix=<ElementPrefix.CHARACTER: 'H'>, english_name='(unknown)', japanese_name='不詳', romaji_name='', other_names=[], _type=<Type.TYPE: <ItemType.CHARACTER: 'character'>>, type=<ItemType.CHARACTER: 'character'>, version=3, objects_count=591, sex=<Sex.UNKNOWN: 0>, age='', _links=Character.Linker(items=[]))\nCharacter(_id='H7', id=7, prefix=<ElementPrefix.CHARACTER: 'H'>, english_name='Kagami Kuro', japanese_name='鏡黒', romaji_name='カガミクロ', other_names=[], _type=<Type.TYPE: <ItemType.CHARACTER: 'character'>>, type=<ItemType.CHARACTER: 'character'>, version=5, objects_count=53, sex=<Sex.FEMALE: 2>, age='', _links=Character.Linker(items=[SubContent(_id='K15', id=15, prefix=<ElementPrefix.CONTENT: 'K'>, english_name='Loli', japanese_name='ロリ', romaji_name='', other_names=['lolicon', 'lolikon', 'rorikon', 'ロリコン'], _type=<Type.TYPE: <ItemType.CONTENT: 'contents'>>, type=<ItemType.CONTENT: 'contents'>, version=3, objects_count=74955)]))\nCharacter(_id='H4', id=4, prefix=<ElementPrefix.CHARACTER: 'H'>, english_name='Takamachi Nanoha', japanese_name='高町なのは', romaji_name='タカマチナノハ', other_names=[], _type=<Type.TYPE: <ItemType.CHARACTER: 'character'>>, type=<ItemType.CHARACTER: 'character'>, version=26, objects_count=1386, sex=<Sex.FEMALE: 2>, age='9', _links=Character.Linker(items=[SubContent(_id='K9', id=9, prefix=<ElementPrefix.CONTENT: 'K'>, english_name='Breasts (Large)', japanese_name='巨乳', romaji_name='キョニュウ', other_names=[], _type=<Type.TYPE: <ItemType.CONTENT: 'contents'>>, type=<ItemType.CONTENT: 'contents'>, version=2, objects_count=60126), SubContent(_id='K65', id=65, prefix=<ElementPrefix.CONTENT: 'K'>, english_name='Anal', japanese_name='アナル', romaji_name='', other_names=[], _type=<Type.TYPE: <ItemType.CONTENT: 'contents'>>, type=<ItemType.CONTENT: 'contents'>, version=1, objects_count=41951), SubContent(_id='K66', id=66, prefix=<ElementPrefix.CONTENT: 'K'>, english_name='Group Sex', japanese_name='グループセックス', romaji_name='', other_names=['乱交'], _type=<Type.TYPE: <ItemType.CONTENT: 'contents'>>, type=<ItemType.CONTENT: 'contents'>, version=4, objects_count=40038), SubContent(_id='K15', id=15, prefix=<ElementPrefix.CONTENT: 'K'>, english_name='Loli', japanese_name='ロリ', romaji_name='', other_names=['lolicon', 'lolikon', 'rorikon', 'ロリコン'], _type=<Type.TYPE: <ItemType.CONTENT: 'contents'>>, type=<ItemType.CONTENT: 'contents'>, version=3, objects_count=74955), SubContent(_id='K22', id=22, prefix=<ElementPrefix.CONTENT: 'K'>, english_name='Rape', japanese_name='強姦', romaji_name='', other_names=[], _type=<Type.TYPE: <ItemType.CONTENT: 'contents'>>, type=<ItemType.CONTENT: 'contents'>, version=1, objects_count=21057)]))\nCharacter(_id='H3', id=3, prefix=<ElementPrefix.CHARACTER: 'H'>, english_name='Fate Testarossa', japanese_name='フェイト・テスタロッサ', romaji_name='フェイトテスタロッサ', other_names=['フェイト・T・ハラオウン', 'Fate T. Harlaown'], _type=<Type.TYPE: <ItemType.CHARACTER: 'character'>>, type=<ItemType.CHARACTER: 'character'>, version=18, objects_count=1537, sex=<Sex.FEMALE: 2>, age='9', _links=Character.Linker(items=[SubContent(_id='K65', id=65, prefix=<ElementPrefix.CONTENT: 'K'>, english_name='Anal', japanese_name='アナル', romaji_name='', other_names=[], _type=<Type.TYPE: <ItemType.CONTENT: 'contents'>>, type=<ItemType.CONTENT: 'contents'>, version=1, objects_count=41951), SubContent(_id='K121', id=121, prefix=<ElementPrefix.CONTENT: 'K'>, english_name='Stockings', japanese_name='ストッキング', romaji_name='', other_names=[], _type=<Type.TYPE: <ItemType.CONTENT: 'contents'>>, type=<ItemType.CONTENT: 'contents'>, version=1, objects_count=29037), SubContent(_id='K9', id=9, prefix=<ElementPrefix.CONTENT: 'K'>, english_name='Breasts (Large)', japanese_name='巨乳', romaji_name='キョニュウ', other_names=[], _type=<Type.TYPE: <ItemType.CONTENT: 'contents'>>, type=<ItemType.CONTENT: 'contents'>, version=2, objects_count=60126), SubContent(_id='K15', id=15, prefix=<ElementPrefix.CONTENT: 'K'>, english_name='Loli', japanese_name='ロリ', romaji_name='', other_names=['lolicon', 'lolikon', 'rorikon', 'ロリコン'], _type=<Type.TYPE: <ItemType.CONTENT: 'contents'>>, type=<ItemType.CONTENT: 'contents'>, version=3, objects_count=74955)]))\nCharacter(_id='H6', id=6, prefix=<ElementPrefix.CHARACTER: 'H'>, english_name='Kokonoe Rin', japanese_name='九重りん', romaji_name='ココノエリン', other_names=[], _type=<Type.TYPE: <ItemType.CHARACTER: 'character'>>, type=<ItemType.CHARACTER: 'character'>, version=23, objects_count=106, sex=<Sex.FEMALE: 2>, age='', _links=Character.Linker(items=[SubContent(_id='K11', id=11, prefix=<ElementPrefix.CONTENT: 'K'>, english_name='Breasts (Flat Chest)', japanese_name='貧乳, 微乳', romaji_name='ヒンニュウ', other_names=['Petanko', 'Hinnyuu', 'Binyuu'], _type=<Type.TYPE: <ItemType.CONTENT: 'contents'>>, type=<ItemType.CONTENT: 'contents'>, version=7, objects_count=10620), SubContent(_id='K36', id=36, prefix=<ElementPrefix.CONTENT: 'K'>, english_name='Bloomer', japanese_name='ブルマー', romaji_name='ブルマー', other_names=['ブルマ', 'Buruma'], _type=<Type.TYPE: <ItemType.CONTENT: 'contents'>>, type=<ItemType.CONTENT: 'contents'>, version=3, objects_count=4608), SubContent(_id='K93', id=93, prefix=<ElementPrefix.CONTENT: 'K'>, english_name='Sex', japanese_name='セックス', romaji_name='', other_names=[], _type=<Type.TYPE: <ItemType.CONTENT: 'contents'>>, type=<ItemType.CONTENT: 'contents'>, version=1, objects_count=97582), SubContent(_id='K29', id=29, prefix=<ElementPrefix.CONTENT: 'K'>, english_name='Glasses', japanese_name='眼鏡', romaji_name='', other_names=['Megane', 'めがね', 'メガネ'], _type=<Type.TYPE: <ItemType.CONTENT: 'contents'>>, type=<ItemType.CONTENT: 'contents'>, version=3, objects_count=26753), SubContent(_id='K142', id=142, prefix=<ElementPrefix.CONTENT: 'K'>, english_name='Teacher', japanese_name='教師', romaji_name='', other_names=[], _type=<Type.TYPE: <ItemType.CONTENT: 'contents'>>, type=<ItemType.CONTENT: 'contents'>, version=3, objects_count=4356), SubContent(_id='K121', id=121, prefix=<ElementPrefix.CONTENT: 'K'>, english_name='Stockings', japanese_name='ストッキング', romaji_name='', other_names=[], _type=<Type.TYPE: <ItemType.CONTENT: 'contents'>>, type=<ItemType.CONTENT: 'contents'>, version=1, objects_count=29037), SubContent(_id='K601', id=601, prefix=<ElementPrefix.CONTENT: 'K'>, english_name='School Girl', japanese_name='女子生徒', romaji_name='', other_names=[], _type=<Type.TYPE: <ItemType.CONTENT: 'contents'>>, type=<ItemType.CONTENT: 'contents'>, version=3, objects_count=20320), SubContent(_id='K49', id=49, prefix=<ElementPrefix.CONTENT: 'K'>, english_name='Masturbation', japanese_name='自慰・性器愛撫', romaji_name='', other_names=['オナニー', 'マスターベーション', '強制マスターベーション'], _type=<Type.TYPE: <ItemType.CONTENT: 'contents'>>, type=<ItemType.CONTENT: 'contents'>, version=3, objects_count=17706), SubContent(_id='K68', id=68, prefix=<ElementPrefix.CONTENT: 'K'>, english_name='Blowjob', japanese_name='フェラチオ', romaji_name='', other_names=['Fellatio', 'BJ'], _type=<Type.TYPE: <ItemType.CONTENT: 'contents'>>, type=<ItemType.CONTENT: 'contents'>, version=3, objects_count=31211), SubContent(_id='K15', id=15, prefix=<ElementPrefix.CONTENT: 'K'>, english_name='Loli', japanese_name='ロリ', romaji_name='', other_names=['lolicon', 'lolikon', 'rorikon', 'ロリコン'], _type=<Type.TYPE: <ItemType.CONTENT: 'contents'>>, type=<ItemType.CONTENT: 'contents'>, version=3, objects_count=74955)]))\nCharacter(_id='H9', id=9, prefix=<ElementPrefix.CHARACTER: 'H'>, english_name='Kooh', japanese_name='クー', romaji_name='クー', other_names=[], _type=<Type.TYPE: <ItemType.CHARACTER: 'character'>>, type=<ItemType.CHARACTER: 'character'>, version=15, objects_count=147, sex=<Sex.FEMALE: 2>, age='11', _links=Character.Linker(items=[SubContent(_id='K15', id=15, prefix=<ElementPrefix.CONTENT: 'K'>, english_name='Loli', japanese_name='ロリ', romaji_name='', other_names=['lolicon', 'lolikon', 'rorikon', 'ロリコン'], _type=<Type.TYPE: <ItemType.CONTENT: 'contents'>>, type=<ItemType.CONTENT: 'contents'>, version=3, objects_count=74955)]))\n"
     ]
    }
   ],
   "source": [
    "async for e in client.character.get(list(range(10))):\n",
    "    print(e)"
   ]
  },
  {
   "cell_type": "code",
   "execution_count": 5,
   "metadata": {},
   "outputs": [
    {
     "output_type": "execute_result",
     "data": {
      "text/plain": [
       "Circle(_id='C1', id=1, prefix=<ElementPrefix.CIRCLE: 'C'>, english_name='(unknown)', japanese_name='不詳', romaji_name='', other_names=[], _type=<Type.TYPE: <ItemType.CIRCLE: 'circle'>>, type=<ItemType.CIRCLE: 'circle'>, version=8, objects_count=1867, parent=0, _links=Circle.Linker(items=[]))"
      ]
     },
     "metadata": {},
     "execution_count": 5
    }
   ],
   "source": [
    "await client.circle.get(1)"
   ]
  },
  {
   "cell_type": "code",
   "execution_count": 6,
   "metadata": {},
   "outputs": [
    {
     "output_type": "execute_result",
     "data": {
      "text/plain": [
       "Collection(_id='O1', id=1, prefix=<ElementPrefix.COLLECTION: 'O'>, english_name='UNKNOWN', japanese_name='不詳', romaji_name='', other_names=[], _type=<Type.TYPE: <ItemType.COLLECTION: 'collections'>>, type=<ItemType.COLLECTION: 'collections'>, version=2, objects_count=37, _='')"
      ]
     },
     "metadata": {},
     "execution_count": 6
    }
   ],
   "source": [
    "await client.collection.get(1)"
   ]
  },
  {
   "cell_type": "code",
   "execution_count": 7,
   "metadata": {},
   "outputs": [
    {
     "output_type": "execute_result",
     "data": {
      "text/plain": [
       "Content(_id='K1', id=1, prefix=<ElementPrefix.CONTENT: 'K'>, english_name='Unknown', japanese_name='不詳', romaji_name='', other_names=[], _type=<Type.TYPE: <ItemType.CONTENT: 'contents'>>, type=<ItemType.CONTENT: 'contents'>, version=1, objects_count=1584607, _='')"
      ]
     },
     "metadata": {},
     "execution_count": 7
    }
   ],
   "source": [
    "await client.content.get(1)"
   ]
  },
  {
   "cell_type": "code",
   "execution_count": 8,
   "metadata": {},
   "outputs": [
    {
     "output_type": "execute_result",
     "data": {
      "text/plain": [
       "Convention(_id='N1', id=1, prefix=<ElementPrefix.CONVENTION: 'N'>, english_name='Unknown', japanese_name='不詳', romaji_name='', other_names=[], _type=<Type.TYPE: <ItemType.CONVENTION: 'convention'>>, type=<ItemType.CONVENTION: 'convention'>, version=2, objects_count=690635, date_start='0000-00-00', date_end='0000-00-00', _links=Convention.Linker(items=[]))"
      ]
     },
     "metadata": {},
     "execution_count": 8
    }
   ],
   "source": [
    "await client.convention.get(1)"
   ]
  },
  {
   "cell_type": "code",
   "execution_count": 9,
   "metadata": {},
   "outputs": [
    {
     "output_type": "execute_result",
     "data": {
      "text/plain": [
       "Genre(_id='G1', id=1, prefix=<ElementPrefix.GENRE: 'G'>, english_name='Unknown', japanese_name='不詳', romaji_name='', other_names=[], _type=<Type.TYPE: <ItemType.GENRE: 'genre'>>, type=<ItemType.GENRE: 'genre'>, version=2, objects_count=173, _='')"
      ]
     },
     "metadata": {},
     "execution_count": 9
    }
   ],
   "source": [
    "await client.genre.get(1)"
   ]
  },
  {
   "cell_type": "code",
   "execution_count": 10,
   "metadata": {},
   "outputs": [
    {
     "output_type": "execute_result",
     "data": {
      "text/plain": [
       "Imprint(_id='I1', id=1, prefix=<ElementPrefix.IMPRINT: 'I'>, english_name='Unknown', japanese_name='不詳', romaji_name='', other_names=[], _type=<Type.TYPE: <ItemType.IMPRINT: 'imprint'>>, type=<ItemType.IMPRINT: 'imprint'>, version=1, objects_count=15059, _='')"
      ]
     },
     "metadata": {},
     "execution_count": 10
    }
   ],
   "source": [
    "await client.imprint.get(1)"
   ]
  },
  {
   "cell_type": "code",
   "execution_count": 11,
   "metadata": {},
   "outputs": [
    {
     "output_type": "execute_result",
     "data": {
      "text/plain": [
       "Parody(_id='P1', id=1, prefix=<ElementPrefix.PARODY: 'P'>, english_name='(unknown)', japanese_name='不詳', romaji_name='', other_names=[], _type=<Type.TYPE: <ItemType.PARODY: 'parody'>>, type=<ItemType.PARODY: 'parody'>, version=4, objects_count=107196, _links=Parody.Linker(items=[]))"
      ]
     },
     "metadata": {},
     "execution_count": 11
    }
   ],
   "source": [
    "await client.parody.get(1)"
   ]
  },
  {
   "cell_type": "code",
   "execution_count": 12,
   "metadata": {},
   "outputs": [
    {
     "output_type": "execute_result",
     "data": {
      "text/plain": [
       "Publisher(_id='L1', id=1, prefix=<ElementPrefix.PUBLISHER: 'L'>, english_name='Unknown', japanese_name='不詳', romaji_name='', other_names=[], _type=<Type.TYPE: <ItemType.PUBLISHER: 'publisher'>>, type=<ItemType.PUBLISHER: 'publisher'>, version=1, objects_count=70580, _='')"
      ]
     },
     "metadata": {},
     "execution_count": 12
    }
   ],
   "source": [
    "await client.publisher.get(1)"
   ]
  },
  {
   "cell_type": "code",
   "execution_count": 13,
   "metadata": {},
   "outputs": [
    {
     "output_type": "execute_result",
     "data": {
      "text/plain": [
       "Book(_id='B1', id=1, prefix=<ElementPrefix.BOOK: 'B'>, english_name='EXTRA \"C\" VOL.01', japanese_name='EXTRA \"C\" VOL.01', romaji_name='', other_names=[], version=7, match_ratio=None, release_date=datetime.date(2002, 1, 20), isbn='', pages_count=14, is_adult=False, is_anthology=False, is_copybook=False, magazine=0, language=<Language.JAPANESE: 3>, info='', _links=Book.Linker(items=[Content(_id='K1', id=1, prefix=<ElementPrefix.CONTENT: 'K'>, english_name='Unknown', japanese_name='不詳', romaji_name='', other_names=[], _type=<Type.TYPE: <ItemType.CONTENT: 'contents'>>, type=<ItemType.CONTENT: 'contents'>, version=1, objects_count=1584607, ratio=<Ratio.NOT_SET: 0>), Parody(_id='P1', id=1, prefix=<ElementPrefix.PARODY: 'P'>, english_name='(unknown)', japanese_name='不詳', romaji_name='', other_names=[], _type=<Type.TYPE: <ItemType.PARODY: 'parody'>>, type=<ItemType.PARODY: 'parody'>, version=4, objects_count=107196, ratio=<Ratio.NOT_SET: 0>), Parody(_id='P321', id=321, prefix=<ElementPrefix.PARODY: 'P'>, english_name='Full Metal Panic!', japanese_name='フルメタル・パニック!', romaji_name='フルメタルパニック', other_names=[], _type=<Type.TYPE: <ItemType.PARODY: 'parody'>>, type=<ItemType.PARODY: 'parody'>, version=46, objects_count=227, ratio=<Ratio.SOME: 2>), Parody(_id='P3', id=3, prefix=<ElementPrefix.PARODY: 'P'>, english_name='Onegai Teacher', japanese_name='おねがい☆ティーチャー', romaji_name='オネガイティーチャー', other_names=[], _type=<Type.TYPE: <ItemType.PARODY: 'parody'>>, type=<ItemType.PARODY: 'parody'>, version=15, objects_count=396, ratio=<Ratio.SOME: 2>), Convention(_id='N121', id=121, prefix=<ElementPrefix.CONVENTION: 'N'>, english_name='Sunshine Creation 14', japanese_name='サンシャインクリエイション 14', romaji_name='サンシャインクリエイション14', other_names=[], _type=<Type.TYPE: <ItemType.CONVENTION: 'convention'>>, type=<ItemType.CONVENTION: 'convention'>, version=3, objects_count=67, date_start=datetime.date(2002, 1, 20), date_end=datetime.date(2002, 1, 20), _=0), Publisher(_id='L2', id=2, prefix=<ElementPrefix.PUBLISHER: 'L'>, english_name='Not Set', japanese_name='設定なし', romaji_name='', other_names=[], _type=<Type.TYPE: <ItemType.PUBLISHER: 'publisher'>>, type=<ItemType.PUBLISHER: 'publisher'>, version=2, objects_count=1078, _=0), Collection(_id='O2', id=2, prefix=<ElementPrefix.COLLECTION: 'O'>, english_name='No Collections', japanese_name='シリーズでない', romaji_name='', other_names=[], _type=<Type.TYPE: <ItemType.COLLECTION: 'collections'>>, type=<ItemType.COLLECTION: 'collections'>, version=4, objects_count=1729877, _=0), Imprint(_id='I2', id=2, prefix=<ElementPrefix.IMPRINT: 'I'>, english_name='No Imprint', japanese_name='レーベルなし', romaji_name='', other_names=[], _type=<Type.TYPE: <ItemType.IMPRINT: 'imprint'>>, type=<ItemType.IMPRINT: 'imprint'>, version=2, objects_count=867242, _=0), Type(_id='T1', id=1, prefix=<ElementPrefix.TYPE: 'T'>, english_name='Doujinshi', japanese_name='同人誌', romaji_name='', other_names=[], _type=<Type.TYPE: <ItemType.TYPE: 'type'>>, type=<ItemType.TYPE: 'type'>, version=1, objects_count=1345292, _=0), Parody(_id='P1260', id=1260, prefix=<ElementPrefix.PARODY: 'P'>, english_name='CAPCOM', japanese_name='カプコン', romaji_name='カプコン', other_names=[], _type=<Type.TYPE: <ItemType.PARODY: 'parody'>>, type=<ItemType.PARODY: 'parody'>, version=6, objects_count=31607, ratio=<Ratio.SOME: 2>), Circle(_id='C8', id=8, prefix=<ElementPrefix.CIRCLE: 'C'>, english_name='MEKONGDELTA & DELTAFORCE', japanese_name='MEKONGDELTA & DELTAFORCE', romaji_name='メコンデルタアンドデルタフォース', other_names=[], _type=<Type.TYPE: <ItemType.CIRCLE: 'circle'>>, type=<ItemType.CIRCLE: 'circle'>, version=27, objects_count=141, parent=0, position=<Position.NOT_SET: 0>), Author(_id='A6', id=6, prefix=<ElementPrefix.AUTHOR: 'A'>, english_name='Zenki', japanese_name='ぜんき', romaji_name='ゼンキ', other_names=[], _type=<Type.TYPE: <ItemType.AUTHOR: 'author'>>, type=<ItemType.AUTHOR: 'author'>, version=1, objects_count=176, parent=0, position=<Position.NOT_SET: 0>), Author(_id='A5', id=5, prefix=<ElementPrefix.AUTHOR: 'A'>, english_name='Route39', japanese_name='Route39', romaji_name='', other_names=[], _type=<Type.TYPE: <ItemType.AUTHOR: 'author'>>, type=<ItemType.AUTHOR: 'author'>, version=24, objects_count=200, parent=0, position=<Position.NOT_SET: 0>)]))"
      ]
     },
     "metadata": {},
     "execution_count": 13
    }
   ],
   "source": [
    "await client.book.get(1)"
   ]
  }
 ]
}